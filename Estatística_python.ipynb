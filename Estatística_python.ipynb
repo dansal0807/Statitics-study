{
  "nbformat": 4,
  "nbformat_minor": 0,
  "metadata": {
    "colab": {
      "name": "Estatística-python.ipynb",
      "provenance": [],
      "collapsed_sections": [
        "paRbVaUjguuH"
      ]
    },
    "kernelspec": {
      "name": "python3",
      "display_name": "Python 3"
    },
    "language_info": {
      "name": "python"
    }
  },
  "cells": [
    {
      "cell_type": "markdown",
      "source": [
        "##Estatística em Python:"
      ],
      "metadata": {
        "id": "4ZwQSCnBdmb_"
      }
    },
    {
      "cell_type": "code",
      "source": [
        "import pandas as pd\n",
        "import numpy as np\n",
        "import seaborn as sns\n",
        "import scipy as scp\n",
        "\n"
      ],
      "metadata": {
        "id": "KhCmr-x2d3Sp"
      },
      "execution_count": 2,
      "outputs": []
    },
    {
      "cell_type": "code",
      "source": [
        "print('Versão do pandas -> %s' % pd.__version__)\n",
        "print('Versão do numpy -> %s' % np.__version__)\n",
        "print('Versão do seaborn -> %s' % sns.__version__)\n",
        "print('Versão do scipy -> %s' % scp.__version__)"
      ],
      "metadata": {
        "colab": {
          "base_uri": "https://localhost:8080/"
        },
        "id": "tw9qVQr9e3Hn",
        "outputId": "e876b4f1-772e-4ad5-b7f5-29aef473e8fb"
      },
      "execution_count": 3,
      "outputs": [
        {
          "output_type": "stream",
          "name": "stdout",
          "text": [
            "Versão do pandas -> 1.1.5\n",
            "Versão do numpy -> 1.19.5\n",
            "Versão do seaborn -> 0.11.2\n",
            "Versão do scipy -> 1.4.1\n"
          ]
        }
      ]
    },
    {
      "cell_type": "markdown",
      "source": [
        "### Variáveis utilizadas\n",
        "\n",
        "> ### Renda\n",
        "> ***\n",
        "\n",
        "Rendimento mensal do trabalho principal para pessoas de 10 anos ou mais de idade.\n",
        "\n",
        "> ### Idade\n",
        "> ***\n",
        "\n",
        "Idade do morador na data de referência em anos.\n",
        "\n",
        "> ### Altura (elaboração própria)\n",
        "> ***\n",
        "\n",
        "Altura do morador em metros.\n",
        "\n",
        "> ### UF\n",
        "> ***\n",
        "\n",
        "|Código|Descrição|\n",
        "|---|---|\n",
        "|11|Rondônia|\n",
        "|12|Acre|\n",
        "|13|Amazonas|\n",
        "|14|Roraima|\n",
        "|15|Pará|\n",
        "|16|Amapá|\n",
        "|17|Tocantins|\n",
        "|21|Maranhão|\n",
        "|22|Piauí|\n",
        "|23|Ceará|\n",
        "|24|Rio Grande do Norte|\n",
        "|25|Paraíba|\n",
        "|26|Pernambuco|\n",
        "|27|Alagoas|\n",
        "|28|Sergipe|\n",
        "|29|Bahia|\n",
        "|31|Minas Gerais|\n",
        "|32|Espírito Santo|\n",
        "|33|Rio de Janeiro|\n",
        "|35|São Paulo|\n",
        "|41|Paraná|\n",
        "|42|Santa Catarina|\n",
        "|43|Rio Grande do Sul|\n",
        "|50|Mato Grosso do Sul|\n",
        "|51|Mato Grosso|\n",
        "|52|Goiás|\n",
        "|53|Distrito Federal|\n",
        "\n",
        "> ### Sexo\t\n",
        "> ***\n",
        "\n",
        "|Código|Descrição|\n",
        "|---|---|\n",
        "|0|Masculino|\n",
        "|1|Feminino|\n",
        "\n",
        "> ### Anos de Estudo\n",
        "> ***\n",
        "\n",
        "|Código|Descrição|\n",
        "|---|---|\n",
        "|1|Sem instrução e menos de 1 ano|\n",
        "|2|1 ano|\n",
        "|3|2 anos|\n",
        "|4|3 anos|\n",
        "|5|4 anos|\n",
        "|6|5 anos|\n",
        "|7|6 anos|\n",
        "|8|7 anos|\n",
        "|9|8 anos|\n",
        "|10|9 anos|\n",
        "|11|10 anos|\n",
        "|12|11 anos|\n",
        "|13|12 anos|\n",
        "|14|13 anos|\n",
        "|15|14 anos|\n",
        "|16|15 anos ou mais|\n",
        "|17|Não determinados| \n",
        "||Não aplicável|\n",
        "\n",
        "> ### Cor\n",
        "> ***\n",
        "\n",
        "|Código|Descrição|\n",
        "|---|---|\n",
        "|0|Indígena|\n",
        "|2|Branca|\n",
        "|4|Preta|\n",
        "|6|Amarela|\n",
        "|8|Parda|\n",
        "|9|Sem declaração|"
      ],
      "metadata": {
        "id": "paRbVaUjguuH"
      }
    },
    {
      "cell_type": "markdown",
      "source": [
        "##Importando pandas e lendo o dataset do projeto"
      ],
      "metadata": {
        "id": "MLnPyA1bhb8i"
      }
    },
    {
      "cell_type": "code",
      "source": [
        "dados = pd.read_csv(\"dados.csv\")"
      ],
      "metadata": {
        "id": "Yjr2ix-6hdf8"
      },
      "execution_count": 4,
      "outputs": []
    },
    {
      "cell_type": "code",
      "source": [
        "dados.head()"
      ],
      "metadata": {
        "colab": {
          "base_uri": "https://localhost:8080/",
          "height": 206
        },
        "id": "EIqVMdOXbOK4",
        "outputId": "715020a8-c618-4e12-cbe2-11b4394bd7c0"
      },
      "execution_count": 5,
      "outputs": [
        {
          "output_type": "execute_result",
          "data": {
            "text/html": [
              "\n",
              "  <div id=\"df-f1bee69f-a726-42b0-98bf-8af71d562261\">\n",
              "    <div class=\"colab-df-container\">\n",
              "      <div>\n",
              "<style scoped>\n",
              "    .dataframe tbody tr th:only-of-type {\n",
              "        vertical-align: middle;\n",
              "    }\n",
              "\n",
              "    .dataframe tbody tr th {\n",
              "        vertical-align: top;\n",
              "    }\n",
              "\n",
              "    .dataframe thead th {\n",
              "        text-align: right;\n",
              "    }\n",
              "</style>\n",
              "<table border=\"1\" class=\"dataframe\">\n",
              "  <thead>\n",
              "    <tr style=\"text-align: right;\">\n",
              "      <th></th>\n",
              "      <th>UF</th>\n",
              "      <th>Sexo</th>\n",
              "      <th>Idade</th>\n",
              "      <th>Cor</th>\n",
              "      <th>Anos de Estudo</th>\n",
              "      <th>Renda</th>\n",
              "      <th>Altura</th>\n",
              "    </tr>\n",
              "  </thead>\n",
              "  <tbody>\n",
              "    <tr>\n",
              "      <th>0</th>\n",
              "      <td>11</td>\n",
              "      <td>0.0</td>\n",
              "      <td>23.0</td>\n",
              "      <td>8.0</td>\n",
              "      <td>12.0</td>\n",
              "      <td>800.0</td>\n",
              "      <td>1.603808</td>\n",
              "    </tr>\n",
              "    <tr>\n",
              "      <th>1</th>\n",
              "      <td>11</td>\n",
              "      <td>1.0</td>\n",
              "      <td>23.0</td>\n",
              "      <td>2.0</td>\n",
              "      <td>12.0</td>\n",
              "      <td>1150.0</td>\n",
              "      <td>1.739790</td>\n",
              "    </tr>\n",
              "    <tr>\n",
              "      <th>2</th>\n",
              "      <td>11</td>\n",
              "      <td>1.0</td>\n",
              "      <td>35.0</td>\n",
              "      <td>8.0</td>\n",
              "      <td>15.0</td>\n",
              "      <td>880.0</td>\n",
              "      <td>1.760444</td>\n",
              "    </tr>\n",
              "    <tr>\n",
              "      <th>3</th>\n",
              "      <td>11</td>\n",
              "      <td>0.0</td>\n",
              "      <td>46.0</td>\n",
              "      <td>2.0</td>\n",
              "      <td>6.0</td>\n",
              "      <td>3500.0</td>\n",
              "      <td>1.783158</td>\n",
              "    </tr>\n",
              "    <tr>\n",
              "      <th>4</th>\n",
              "      <td>11</td>\n",
              "      <td>1.0</td>\n",
              "      <td>47.0</td>\n",
              "      <td>8.0</td>\n",
              "      <td>9.0</td>\n",
              "      <td>150.0</td>\n",
              "      <td>1.690631</td>\n",
              "    </tr>\n",
              "  </tbody>\n",
              "</table>\n",
              "</div>\n",
              "      <button class=\"colab-df-convert\" onclick=\"convertToInteractive('df-f1bee69f-a726-42b0-98bf-8af71d562261')\"\n",
              "              title=\"Convert this dataframe to an interactive table.\"\n",
              "              style=\"display:none;\">\n",
              "        \n",
              "  <svg xmlns=\"http://www.w3.org/2000/svg\" height=\"24px\"viewBox=\"0 0 24 24\"\n",
              "       width=\"24px\">\n",
              "    <path d=\"M0 0h24v24H0V0z\" fill=\"none\"/>\n",
              "    <path d=\"M18.56 5.44l.94 2.06.94-2.06 2.06-.94-2.06-.94-.94-2.06-.94 2.06-2.06.94zm-11 1L8.5 8.5l.94-2.06 2.06-.94-2.06-.94L8.5 2.5l-.94 2.06-2.06.94zm10 10l.94 2.06.94-2.06 2.06-.94-2.06-.94-.94-2.06-.94 2.06-2.06.94z\"/><path d=\"M17.41 7.96l-1.37-1.37c-.4-.4-.92-.59-1.43-.59-.52 0-1.04.2-1.43.59L10.3 9.45l-7.72 7.72c-.78.78-.78 2.05 0 2.83L4 21.41c.39.39.9.59 1.41.59.51 0 1.02-.2 1.41-.59l7.78-7.78 2.81-2.81c.8-.78.8-2.07 0-2.86zM5.41 20L4 18.59l7.72-7.72 1.47 1.35L5.41 20z\"/>\n",
              "  </svg>\n",
              "      </button>\n",
              "      \n",
              "  <style>\n",
              "    .colab-df-container {\n",
              "      display:flex;\n",
              "      flex-wrap:wrap;\n",
              "      gap: 12px;\n",
              "    }\n",
              "\n",
              "    .colab-df-convert {\n",
              "      background-color: #E8F0FE;\n",
              "      border: none;\n",
              "      border-radius: 50%;\n",
              "      cursor: pointer;\n",
              "      display: none;\n",
              "      fill: #1967D2;\n",
              "      height: 32px;\n",
              "      padding: 0 0 0 0;\n",
              "      width: 32px;\n",
              "    }\n",
              "\n",
              "    .colab-df-convert:hover {\n",
              "      background-color: #E2EBFA;\n",
              "      box-shadow: 0px 1px 2px rgba(60, 64, 67, 0.3), 0px 1px 3px 1px rgba(60, 64, 67, 0.15);\n",
              "      fill: #174EA6;\n",
              "    }\n",
              "\n",
              "    [theme=dark] .colab-df-convert {\n",
              "      background-color: #3B4455;\n",
              "      fill: #D2E3FC;\n",
              "    }\n",
              "\n",
              "    [theme=dark] .colab-df-convert:hover {\n",
              "      background-color: #434B5C;\n",
              "      box-shadow: 0px 1px 3px 1px rgba(0, 0, 0, 0.15);\n",
              "      filter: drop-shadow(0px 1px 2px rgba(0, 0, 0, 0.3));\n",
              "      fill: #FFFFFF;\n",
              "    }\n",
              "  </style>\n",
              "\n",
              "      <script>\n",
              "        const buttonEl =\n",
              "          document.querySelector('#df-f1bee69f-a726-42b0-98bf-8af71d562261 button.colab-df-convert');\n",
              "        buttonEl.style.display =\n",
              "          google.colab.kernel.accessAllowed ? 'block' : 'none';\n",
              "\n",
              "        async function convertToInteractive(key) {\n",
              "          const element = document.querySelector('#df-f1bee69f-a726-42b0-98bf-8af71d562261');\n",
              "          const dataTable =\n",
              "            await google.colab.kernel.invokeFunction('convertToInteractive',\n",
              "                                                     [key], {});\n",
              "          if (!dataTable) return;\n",
              "\n",
              "          const docLinkHtml = 'Like what you see? Visit the ' +\n",
              "            '<a target=\"_blank\" href=https://colab.research.google.com/notebooks/data_table.ipynb>data table notebook</a>'\n",
              "            + ' to learn more about interactive tables.';\n",
              "          element.innerHTML = '';\n",
              "          dataTable['output_type'] = 'display_data';\n",
              "          await google.colab.output.renderOutput(dataTable, element);\n",
              "          const docLink = document.createElement('div');\n",
              "          docLink.innerHTML = docLinkHtml;\n",
              "          element.appendChild(docLink);\n",
              "        }\n",
              "      </script>\n",
              "    </div>\n",
              "  </div>\n",
              "  "
            ],
            "text/plain": [
              "   UF  Sexo  Idade  Cor  Anos de Estudo   Renda    Altura\n",
              "0  11   0.0   23.0  8.0            12.0   800.0  1.603808\n",
              "1  11   1.0   23.0  2.0            12.0  1150.0  1.739790\n",
              "2  11   1.0   35.0  8.0            15.0   880.0  1.760444\n",
              "3  11   0.0   46.0  2.0             6.0  3500.0  1.783158\n",
              "4  11   1.0   47.0  8.0             9.0   150.0  1.690631"
            ]
          },
          "metadata": {},
          "execution_count": 5
        }
      ]
    },
    {
      "cell_type": "code",
      "source": [
        "sorted(dados['Anos de Estudo'].unique())"
      ],
      "metadata": {
        "colab": {
          "base_uri": "https://localhost:8080/"
        },
        "id": "OWzKC7tlcBu7",
        "outputId": "99e5f546-9db1-4fcc-8240-58de21b76546"
      },
      "execution_count": 6,
      "outputs": [
        {
          "output_type": "execute_result",
          "data": {
            "text/plain": [
              "[1.0,\n",
              " 2.0,\n",
              " 3.0,\n",
              " 4.0,\n",
              " 5.0,\n",
              " 6.0,\n",
              " 7.0,\n",
              " 8.0,\n",
              " 9.0,\n",
              " 10.0,\n",
              " 11.0,\n",
              " 12.0,\n",
              " 13.0,\n",
              " 14.0,\n",
              " 15.0,\n",
              " 16.0,\n",
              " 17.0,\n",
              " nan]"
            ]
          },
          "metadata": {},
          "execution_count": 6
        }
      ]
    },
    {
      "cell_type": "code",
      "source": [
        "#Descobrindo os pontos mais altos e mais baixos\n",
        "print(dados['Idade'].min())\n",
        "dados['Idade'].max()"
      ],
      "metadata": {
        "colab": {
          "base_uri": "https://localhost:8080/"
        },
        "id": "KFbAL9vrcxUk",
        "outputId": "c3a0d8f5-14af-4c29-84c4-b8ef4795cee3"
      },
      "execution_count": 7,
      "outputs": [
        {
          "output_type": "stream",
          "name": "stdout",
          "text": [
            "13.0\n"
          ]
        },
        {
          "output_type": "execute_result",
          "data": {
            "text/plain": [
              "99.0"
            ]
          },
          "metadata": {},
          "execution_count": 7
        }
      ]
    },
    {
      "cell_type": "code",
      "source": [
        "#Distribuição de variáveis:\n",
        "dados['Sexo'].value_counts()"
      ],
      "metadata": {
        "colab": {
          "base_uri": "https://localhost:8080/"
        },
        "id": "zPu9jyKaczK8",
        "outputId": "11c4130d-c985-4902-f1ee-79b035a2d819"
      },
      "execution_count": 8,
      "outputs": [
        {
          "output_type": "execute_result",
          "data": {
            "text/plain": [
              "0.0    82124\n",
              "1.0    36258\n",
              "Name: Sexo, dtype: int64"
            ]
          },
          "metadata": {},
          "execution_count": 8
        }
      ]
    },
    {
      "cell_type": "code",
      "source": [
        "#Para uma compreensão percentual mais apurada:\n",
        "dados['Sexo'].value_counts(normalize = True)\n",
        "\n",
        "#69% são homens e 30% são mulheres."
      ],
      "metadata": {
        "colab": {
          "base_uri": "https://localhost:8080/"
        },
        "id": "iSMMAenSd8FI",
        "outputId": "3f80458c-19d4-40d6-cc8a-ac18bd999c95"
      },
      "execution_count": 9,
      "outputs": [
        {
          "output_type": "execute_result",
          "data": {
            "text/plain": [
              "0.0    0.69372\n",
              "1.0    0.30628\n",
              "Name: Sexo, dtype: float64"
            ]
          },
          "metadata": {},
          "execution_count": 9
        }
      ]
    },
    {
      "cell_type": "code",
      "source": [
        "#De uma forma mais adequada:\n",
        "frequencia = dados['Sexo'].value_counts()\n",
        "percentual = dados['Sexo'].value_counts(normalize = True) * 100\n",
        "\n",
        "dist_freq_qualitativas = pd.DataFrame({'Frequência': frequencia, 'Porcentagem (%)': percentual})"
      ],
      "metadata": {
        "id": "B_sNogameTmB"
      },
      "execution_count": 10,
      "outputs": []
    },
    {
      "cell_type": "code",
      "source": [
        "dist_freq_qualitativas"
      ],
      "metadata": {
        "colab": {
          "base_uri": "https://localhost:8080/",
          "height": 112
        },
        "id": "aBChtevOeVMn",
        "outputId": "099e9a3d-3474-4e77-db42-e0aa3cd81d04"
      },
      "execution_count": 11,
      "outputs": [
        {
          "output_type": "execute_result",
          "data": {
            "text/html": [
              "\n",
              "  <div id=\"df-6ecc996e-d340-4a1b-8fa7-7fa005c76a1f\">\n",
              "    <div class=\"colab-df-container\">\n",
              "      <div>\n",
              "<style scoped>\n",
              "    .dataframe tbody tr th:only-of-type {\n",
              "        vertical-align: middle;\n",
              "    }\n",
              "\n",
              "    .dataframe tbody tr th {\n",
              "        vertical-align: top;\n",
              "    }\n",
              "\n",
              "    .dataframe thead th {\n",
              "        text-align: right;\n",
              "    }\n",
              "</style>\n",
              "<table border=\"1\" class=\"dataframe\">\n",
              "  <thead>\n",
              "    <tr style=\"text-align: right;\">\n",
              "      <th></th>\n",
              "      <th>Frequência</th>\n",
              "      <th>Porcentagem (%)</th>\n",
              "    </tr>\n",
              "  </thead>\n",
              "  <tbody>\n",
              "    <tr>\n",
              "      <th>0.0</th>\n",
              "      <td>82124</td>\n",
              "      <td>69.372033</td>\n",
              "    </tr>\n",
              "    <tr>\n",
              "      <th>1.0</th>\n",
              "      <td>36258</td>\n",
              "      <td>30.627967</td>\n",
              "    </tr>\n",
              "  </tbody>\n",
              "</table>\n",
              "</div>\n",
              "      <button class=\"colab-df-convert\" onclick=\"convertToInteractive('df-6ecc996e-d340-4a1b-8fa7-7fa005c76a1f')\"\n",
              "              title=\"Convert this dataframe to an interactive table.\"\n",
              "              style=\"display:none;\">\n",
              "        \n",
              "  <svg xmlns=\"http://www.w3.org/2000/svg\" height=\"24px\"viewBox=\"0 0 24 24\"\n",
              "       width=\"24px\">\n",
              "    <path d=\"M0 0h24v24H0V0z\" fill=\"none\"/>\n",
              "    <path d=\"M18.56 5.44l.94 2.06.94-2.06 2.06-.94-2.06-.94-.94-2.06-.94 2.06-2.06.94zm-11 1L8.5 8.5l.94-2.06 2.06-.94-2.06-.94L8.5 2.5l-.94 2.06-2.06.94zm10 10l.94 2.06.94-2.06 2.06-.94-2.06-.94-.94-2.06-.94 2.06-2.06.94z\"/><path d=\"M17.41 7.96l-1.37-1.37c-.4-.4-.92-.59-1.43-.59-.52 0-1.04.2-1.43.59L10.3 9.45l-7.72 7.72c-.78.78-.78 2.05 0 2.83L4 21.41c.39.39.9.59 1.41.59.51 0 1.02-.2 1.41-.59l7.78-7.78 2.81-2.81c.8-.78.8-2.07 0-2.86zM5.41 20L4 18.59l7.72-7.72 1.47 1.35L5.41 20z\"/>\n",
              "  </svg>\n",
              "      </button>\n",
              "      \n",
              "  <style>\n",
              "    .colab-df-container {\n",
              "      display:flex;\n",
              "      flex-wrap:wrap;\n",
              "      gap: 12px;\n",
              "    }\n",
              "\n",
              "    .colab-df-convert {\n",
              "      background-color: #E8F0FE;\n",
              "      border: none;\n",
              "      border-radius: 50%;\n",
              "      cursor: pointer;\n",
              "      display: none;\n",
              "      fill: #1967D2;\n",
              "      height: 32px;\n",
              "      padding: 0 0 0 0;\n",
              "      width: 32px;\n",
              "    }\n",
              "\n",
              "    .colab-df-convert:hover {\n",
              "      background-color: #E2EBFA;\n",
              "      box-shadow: 0px 1px 2px rgba(60, 64, 67, 0.3), 0px 1px 3px 1px rgba(60, 64, 67, 0.15);\n",
              "      fill: #174EA6;\n",
              "    }\n",
              "\n",
              "    [theme=dark] .colab-df-convert {\n",
              "      background-color: #3B4455;\n",
              "      fill: #D2E3FC;\n",
              "    }\n",
              "\n",
              "    [theme=dark] .colab-df-convert:hover {\n",
              "      background-color: #434B5C;\n",
              "      box-shadow: 0px 1px 3px 1px rgba(0, 0, 0, 0.15);\n",
              "      filter: drop-shadow(0px 1px 2px rgba(0, 0, 0, 0.3));\n",
              "      fill: #FFFFFF;\n",
              "    }\n",
              "  </style>\n",
              "\n",
              "      <script>\n",
              "        const buttonEl =\n",
              "          document.querySelector('#df-6ecc996e-d340-4a1b-8fa7-7fa005c76a1f button.colab-df-convert');\n",
              "        buttonEl.style.display =\n",
              "          google.colab.kernel.accessAllowed ? 'block' : 'none';\n",
              "\n",
              "        async function convertToInteractive(key) {\n",
              "          const element = document.querySelector('#df-6ecc996e-d340-4a1b-8fa7-7fa005c76a1f');\n",
              "          const dataTable =\n",
              "            await google.colab.kernel.invokeFunction('convertToInteractive',\n",
              "                                                     [key], {});\n",
              "          if (!dataTable) return;\n",
              "\n",
              "          const docLinkHtml = 'Like what you see? Visit the ' +\n",
              "            '<a target=\"_blank\" href=https://colab.research.google.com/notebooks/data_table.ipynb>data table notebook</a>'\n",
              "            + ' to learn more about interactive tables.';\n",
              "          element.innerHTML = '';\n",
              "          dataTable['output_type'] = 'display_data';\n",
              "          await google.colab.output.renderOutput(dataTable, element);\n",
              "          const docLink = document.createElement('div');\n",
              "          docLink.innerHTML = docLinkHtml;\n",
              "          element.appendChild(docLink);\n",
              "        }\n",
              "      </script>\n",
              "    </div>\n",
              "  </div>\n",
              "  "
            ],
            "text/plain": [
              "     Frequência  Porcentagem (%)\n",
              "0.0       82124        69.372033\n",
              "1.0       36258        30.627967"
            ]
          },
          "metadata": {},
          "execution_count": 11
        }
      ]
    },
    {
      "cell_type": "code",
      "source": [
        "#Renomeando o Index para os sexos e a coluna do index:\n",
        "dist_freq_qualitativas.rename(index = {0: 'Masculino', 1: 'Feminino'}, inplace = True)\n",
        "dist_freq_qualitativas.rename_axis('Sexo', axis = 'columns', inplace = True)\n",
        "\n",
        "dist_freq_qualitativas"
      ],
      "metadata": {
        "colab": {
          "base_uri": "https://localhost:8080/",
          "height": 112
        },
        "id": "6WYcXPH3fEL_",
        "outputId": "1516e1c8-7a83-4845-fee1-bed7c7a8ae15"
      },
      "execution_count": 12,
      "outputs": [
        {
          "output_type": "execute_result",
          "data": {
            "text/html": [
              "\n",
              "  <div id=\"df-bb06b420-ade7-4ed4-a95c-9e01b2ad14a1\">\n",
              "    <div class=\"colab-df-container\">\n",
              "      <div>\n",
              "<style scoped>\n",
              "    .dataframe tbody tr th:only-of-type {\n",
              "        vertical-align: middle;\n",
              "    }\n",
              "\n",
              "    .dataframe tbody tr th {\n",
              "        vertical-align: top;\n",
              "    }\n",
              "\n",
              "    .dataframe thead th {\n",
              "        text-align: right;\n",
              "    }\n",
              "</style>\n",
              "<table border=\"1\" class=\"dataframe\">\n",
              "  <thead>\n",
              "    <tr style=\"text-align: right;\">\n",
              "      <th>Sexo</th>\n",
              "      <th>Frequência</th>\n",
              "      <th>Porcentagem (%)</th>\n",
              "    </tr>\n",
              "  </thead>\n",
              "  <tbody>\n",
              "    <tr>\n",
              "      <th>Masculino</th>\n",
              "      <td>82124</td>\n",
              "      <td>69.372033</td>\n",
              "    </tr>\n",
              "    <tr>\n",
              "      <th>Feminino</th>\n",
              "      <td>36258</td>\n",
              "      <td>30.627967</td>\n",
              "    </tr>\n",
              "  </tbody>\n",
              "</table>\n",
              "</div>\n",
              "      <button class=\"colab-df-convert\" onclick=\"convertToInteractive('df-bb06b420-ade7-4ed4-a95c-9e01b2ad14a1')\"\n",
              "              title=\"Convert this dataframe to an interactive table.\"\n",
              "              style=\"display:none;\">\n",
              "        \n",
              "  <svg xmlns=\"http://www.w3.org/2000/svg\" height=\"24px\"viewBox=\"0 0 24 24\"\n",
              "       width=\"24px\">\n",
              "    <path d=\"M0 0h24v24H0V0z\" fill=\"none\"/>\n",
              "    <path d=\"M18.56 5.44l.94 2.06.94-2.06 2.06-.94-2.06-.94-.94-2.06-.94 2.06-2.06.94zm-11 1L8.5 8.5l.94-2.06 2.06-.94-2.06-.94L8.5 2.5l-.94 2.06-2.06.94zm10 10l.94 2.06.94-2.06 2.06-.94-2.06-.94-.94-2.06-.94 2.06-2.06.94z\"/><path d=\"M17.41 7.96l-1.37-1.37c-.4-.4-.92-.59-1.43-.59-.52 0-1.04.2-1.43.59L10.3 9.45l-7.72 7.72c-.78.78-.78 2.05 0 2.83L4 21.41c.39.39.9.59 1.41.59.51 0 1.02-.2 1.41-.59l7.78-7.78 2.81-2.81c.8-.78.8-2.07 0-2.86zM5.41 20L4 18.59l7.72-7.72 1.47 1.35L5.41 20z\"/>\n",
              "  </svg>\n",
              "      </button>\n",
              "      \n",
              "  <style>\n",
              "    .colab-df-container {\n",
              "      display:flex;\n",
              "      flex-wrap:wrap;\n",
              "      gap: 12px;\n",
              "    }\n",
              "\n",
              "    .colab-df-convert {\n",
              "      background-color: #E8F0FE;\n",
              "      border: none;\n",
              "      border-radius: 50%;\n",
              "      cursor: pointer;\n",
              "      display: none;\n",
              "      fill: #1967D2;\n",
              "      height: 32px;\n",
              "      padding: 0 0 0 0;\n",
              "      width: 32px;\n",
              "    }\n",
              "\n",
              "    .colab-df-convert:hover {\n",
              "      background-color: #E2EBFA;\n",
              "      box-shadow: 0px 1px 2px rgba(60, 64, 67, 0.3), 0px 1px 3px 1px rgba(60, 64, 67, 0.15);\n",
              "      fill: #174EA6;\n",
              "    }\n",
              "\n",
              "    [theme=dark] .colab-df-convert {\n",
              "      background-color: #3B4455;\n",
              "      fill: #D2E3FC;\n",
              "    }\n",
              "\n",
              "    [theme=dark] .colab-df-convert:hover {\n",
              "      background-color: #434B5C;\n",
              "      box-shadow: 0px 1px 3px 1px rgba(0, 0, 0, 0.15);\n",
              "      filter: drop-shadow(0px 1px 2px rgba(0, 0, 0, 0.3));\n",
              "      fill: #FFFFFF;\n",
              "    }\n",
              "  </style>\n",
              "\n",
              "      <script>\n",
              "        const buttonEl =\n",
              "          document.querySelector('#df-bb06b420-ade7-4ed4-a95c-9e01b2ad14a1 button.colab-df-convert');\n",
              "        buttonEl.style.display =\n",
              "          google.colab.kernel.accessAllowed ? 'block' : 'none';\n",
              "\n",
              "        async function convertToInteractive(key) {\n",
              "          const element = document.querySelector('#df-bb06b420-ade7-4ed4-a95c-9e01b2ad14a1');\n",
              "          const dataTable =\n",
              "            await google.colab.kernel.invokeFunction('convertToInteractive',\n",
              "                                                     [key], {});\n",
              "          if (!dataTable) return;\n",
              "\n",
              "          const docLinkHtml = 'Like what you see? Visit the ' +\n",
              "            '<a target=\"_blank\" href=https://colab.research.google.com/notebooks/data_table.ipynb>data table notebook</a>'\n",
              "            + ' to learn more about interactive tables.';\n",
              "          element.innerHTML = '';\n",
              "          dataTable['output_type'] = 'display_data';\n",
              "          await google.colab.output.renderOutput(dataTable, element);\n",
              "          const docLink = document.createElement('div');\n",
              "          docLink.innerHTML = docLinkHtml;\n",
              "          element.appendChild(docLink);\n",
              "        }\n",
              "      </script>\n",
              "    </div>\n",
              "  </div>\n",
              "  "
            ],
            "text/plain": [
              "Sexo       Frequência  Porcentagem (%)\n",
              "Masculino       82124        69.372033\n",
              "Feminino        36258        30.627967"
            ]
          },
          "metadata": {},
          "execution_count": 12
        }
      ]
    },
    {
      "cell_type": "code",
      "source": [
        "#Entendendo distribuição cruzada:\n",
        "sexo = {0: 'Masculino',\n",
        "        1: 'Feminino'}\n",
        "\n",
        "cor = {0: 'Indígena',\n",
        "        2: 'Branca',\n",
        "        4: 'Preta',\n",
        "        6: 'Amarela',\n",
        "        8: 'Parda',\n",
        "        9: 'Sem declaração'}"
      ],
      "metadata": {
        "id": "qhY65Qe4fGYL"
      },
      "execution_count": 13,
      "outputs": []
    },
    {
      "cell_type": "code",
      "source": [
        "frequencia = pd.crosstab(dados.Sexo, dados.Cor)\n",
        "\n",
        "frequencia.rename(index= sexo, inplace=True)\n",
        "frequencia.rename(columns= cor, inplace= True)\n",
        "\n",
        "frequencia"
      ],
      "metadata": {
        "colab": {
          "base_uri": "https://localhost:8080/",
          "height": 143
        },
        "id": "8lb2fsVuOatO",
        "outputId": "cb0037a9-0027-4884-9f0e-1107ac5ef807"
      },
      "execution_count": 14,
      "outputs": [
        {
          "output_type": "execute_result",
          "data": {
            "text/html": [
              "\n",
              "  <div id=\"df-21d8fdc4-14d4-4023-ba9d-fa012b0fcf31\">\n",
              "    <div class=\"colab-df-container\">\n",
              "      <div>\n",
              "<style scoped>\n",
              "    .dataframe tbody tr th:only-of-type {\n",
              "        vertical-align: middle;\n",
              "    }\n",
              "\n",
              "    .dataframe tbody tr th {\n",
              "        vertical-align: top;\n",
              "    }\n",
              "\n",
              "    .dataframe thead th {\n",
              "        text-align: right;\n",
              "    }\n",
              "</style>\n",
              "<table border=\"1\" class=\"dataframe\">\n",
              "  <thead>\n",
              "    <tr style=\"text-align: right;\">\n",
              "      <th>Cor</th>\n",
              "      <th>Indígena</th>\n",
              "      <th>Branca</th>\n",
              "      <th>Preta</th>\n",
              "      <th>Amarela</th>\n",
              "      <th>Parda</th>\n",
              "    </tr>\n",
              "    <tr>\n",
              "      <th>Sexo</th>\n",
              "      <th></th>\n",
              "      <th></th>\n",
              "      <th></th>\n",
              "      <th></th>\n",
              "      <th></th>\n",
              "    </tr>\n",
              "  </thead>\n",
              "  <tbody>\n",
              "    <tr>\n",
              "      <th>Masculino</th>\n",
              "      <td>325</td>\n",
              "      <td>38349</td>\n",
              "      <td>7996</td>\n",
              "      <td>429</td>\n",
              "      <td>35025</td>\n",
              "    </tr>\n",
              "    <tr>\n",
              "      <th>Feminino</th>\n",
              "      <td>141</td>\n",
              "      <td>16640</td>\n",
              "      <td>4212</td>\n",
              "      <td>196</td>\n",
              "      <td>15069</td>\n",
              "    </tr>\n",
              "  </tbody>\n",
              "</table>\n",
              "</div>\n",
              "      <button class=\"colab-df-convert\" onclick=\"convertToInteractive('df-21d8fdc4-14d4-4023-ba9d-fa012b0fcf31')\"\n",
              "              title=\"Convert this dataframe to an interactive table.\"\n",
              "              style=\"display:none;\">\n",
              "        \n",
              "  <svg xmlns=\"http://www.w3.org/2000/svg\" height=\"24px\"viewBox=\"0 0 24 24\"\n",
              "       width=\"24px\">\n",
              "    <path d=\"M0 0h24v24H0V0z\" fill=\"none\"/>\n",
              "    <path d=\"M18.56 5.44l.94 2.06.94-2.06 2.06-.94-2.06-.94-.94-2.06-.94 2.06-2.06.94zm-11 1L8.5 8.5l.94-2.06 2.06-.94-2.06-.94L8.5 2.5l-.94 2.06-2.06.94zm10 10l.94 2.06.94-2.06 2.06-.94-2.06-.94-.94-2.06-.94 2.06-2.06.94z\"/><path d=\"M17.41 7.96l-1.37-1.37c-.4-.4-.92-.59-1.43-.59-.52 0-1.04.2-1.43.59L10.3 9.45l-7.72 7.72c-.78.78-.78 2.05 0 2.83L4 21.41c.39.39.9.59 1.41.59.51 0 1.02-.2 1.41-.59l7.78-7.78 2.81-2.81c.8-.78.8-2.07 0-2.86zM5.41 20L4 18.59l7.72-7.72 1.47 1.35L5.41 20z\"/>\n",
              "  </svg>\n",
              "      </button>\n",
              "      \n",
              "  <style>\n",
              "    .colab-df-container {\n",
              "      display:flex;\n",
              "      flex-wrap:wrap;\n",
              "      gap: 12px;\n",
              "    }\n",
              "\n",
              "    .colab-df-convert {\n",
              "      background-color: #E8F0FE;\n",
              "      border: none;\n",
              "      border-radius: 50%;\n",
              "      cursor: pointer;\n",
              "      display: none;\n",
              "      fill: #1967D2;\n",
              "      height: 32px;\n",
              "      padding: 0 0 0 0;\n",
              "      width: 32px;\n",
              "    }\n",
              "\n",
              "    .colab-df-convert:hover {\n",
              "      background-color: #E2EBFA;\n",
              "      box-shadow: 0px 1px 2px rgba(60, 64, 67, 0.3), 0px 1px 3px 1px rgba(60, 64, 67, 0.15);\n",
              "      fill: #174EA6;\n",
              "    }\n",
              "\n",
              "    [theme=dark] .colab-df-convert {\n",
              "      background-color: #3B4455;\n",
              "      fill: #D2E3FC;\n",
              "    }\n",
              "\n",
              "    [theme=dark] .colab-df-convert:hover {\n",
              "      background-color: #434B5C;\n",
              "      box-shadow: 0px 1px 3px 1px rgba(0, 0, 0, 0.15);\n",
              "      filter: drop-shadow(0px 1px 2px rgba(0, 0, 0, 0.3));\n",
              "      fill: #FFFFFF;\n",
              "    }\n",
              "  </style>\n",
              "\n",
              "      <script>\n",
              "        const buttonEl =\n",
              "          document.querySelector('#df-21d8fdc4-14d4-4023-ba9d-fa012b0fcf31 button.colab-df-convert');\n",
              "        buttonEl.style.display =\n",
              "          google.colab.kernel.accessAllowed ? 'block' : 'none';\n",
              "\n",
              "        async function convertToInteractive(key) {\n",
              "          const element = document.querySelector('#df-21d8fdc4-14d4-4023-ba9d-fa012b0fcf31');\n",
              "          const dataTable =\n",
              "            await google.colab.kernel.invokeFunction('convertToInteractive',\n",
              "                                                     [key], {});\n",
              "          if (!dataTable) return;\n",
              "\n",
              "          const docLinkHtml = 'Like what you see? Visit the ' +\n",
              "            '<a target=\"_blank\" href=https://colab.research.google.com/notebooks/data_table.ipynb>data table notebook</a>'\n",
              "            + ' to learn more about interactive tables.';\n",
              "          element.innerHTML = '';\n",
              "          dataTable['output_type'] = 'display_data';\n",
              "          await google.colab.output.renderOutput(dataTable, element);\n",
              "          const docLink = document.createElement('div');\n",
              "          docLink.innerHTML = docLinkHtml;\n",
              "          element.appendChild(docLink);\n",
              "        }\n",
              "      </script>\n",
              "    </div>\n",
              "  </div>\n",
              "  "
            ],
            "text/plain": [
              "Cor        Indígena  Branca  Preta  Amarela  Parda\n",
              "Sexo                                              \n",
              "Masculino       325   38349   7996      429  35025\n",
              "Feminino        141   16640   4212      196  15069"
            ]
          },
          "metadata": {},
          "execution_count": 14
        }
      ]
    },
    {
      "cell_type": "code",
      "source": [
        "percentual = pd.crosstab(dados.Sexo, dados.Cor, normalize= True)\n",
        "\n",
        "percentual.rename(index= sexo, inplace=True)\n",
        "percentual.rename(columns= cor, inplace= True)\n",
        "\n",
        "percentual"
      ],
      "metadata": {
        "colab": {
          "base_uri": "https://localhost:8080/",
          "height": 143
        },
        "id": "odiSlaQTO4QT",
        "outputId": "a937d0ad-6e9e-4fb2-fe3a-3715ed832c04"
      },
      "execution_count": 15,
      "outputs": [
        {
          "output_type": "execute_result",
          "data": {
            "text/html": [
              "\n",
              "  <div id=\"df-4d96fd00-b972-494d-b6b4-0a5a73c93bad\">\n",
              "    <div class=\"colab-df-container\">\n",
              "      <div>\n",
              "<style scoped>\n",
              "    .dataframe tbody tr th:only-of-type {\n",
              "        vertical-align: middle;\n",
              "    }\n",
              "\n",
              "    .dataframe tbody tr th {\n",
              "        vertical-align: top;\n",
              "    }\n",
              "\n",
              "    .dataframe thead th {\n",
              "        text-align: right;\n",
              "    }\n",
              "</style>\n",
              "<table border=\"1\" class=\"dataframe\">\n",
              "  <thead>\n",
              "    <tr style=\"text-align: right;\">\n",
              "      <th>Cor</th>\n",
              "      <th>Indígena</th>\n",
              "      <th>Branca</th>\n",
              "      <th>Preta</th>\n",
              "      <th>Amarela</th>\n",
              "      <th>Parda</th>\n",
              "    </tr>\n",
              "    <tr>\n",
              "      <th>Sexo</th>\n",
              "      <th></th>\n",
              "      <th></th>\n",
              "      <th></th>\n",
              "      <th></th>\n",
              "      <th></th>\n",
              "    </tr>\n",
              "  </thead>\n",
              "  <tbody>\n",
              "    <tr>\n",
              "      <th>Masculino</th>\n",
              "      <td>0.002745</td>\n",
              "      <td>0.323943</td>\n",
              "      <td>0.067544</td>\n",
              "      <td>0.003624</td>\n",
              "      <td>0.295864</td>\n",
              "    </tr>\n",
              "    <tr>\n",
              "      <th>Feminino</th>\n",
              "      <td>0.001191</td>\n",
              "      <td>0.140562</td>\n",
              "      <td>0.035580</td>\n",
              "      <td>0.001656</td>\n",
              "      <td>0.127291</td>\n",
              "    </tr>\n",
              "  </tbody>\n",
              "</table>\n",
              "</div>\n",
              "      <button class=\"colab-df-convert\" onclick=\"convertToInteractive('df-4d96fd00-b972-494d-b6b4-0a5a73c93bad')\"\n",
              "              title=\"Convert this dataframe to an interactive table.\"\n",
              "              style=\"display:none;\">\n",
              "        \n",
              "  <svg xmlns=\"http://www.w3.org/2000/svg\" height=\"24px\"viewBox=\"0 0 24 24\"\n",
              "       width=\"24px\">\n",
              "    <path d=\"M0 0h24v24H0V0z\" fill=\"none\"/>\n",
              "    <path d=\"M18.56 5.44l.94 2.06.94-2.06 2.06-.94-2.06-.94-.94-2.06-.94 2.06-2.06.94zm-11 1L8.5 8.5l.94-2.06 2.06-.94-2.06-.94L8.5 2.5l-.94 2.06-2.06.94zm10 10l.94 2.06.94-2.06 2.06-.94-2.06-.94-.94-2.06-.94 2.06-2.06.94z\"/><path d=\"M17.41 7.96l-1.37-1.37c-.4-.4-.92-.59-1.43-.59-.52 0-1.04.2-1.43.59L10.3 9.45l-7.72 7.72c-.78.78-.78 2.05 0 2.83L4 21.41c.39.39.9.59 1.41.59.51 0 1.02-.2 1.41-.59l7.78-7.78 2.81-2.81c.8-.78.8-2.07 0-2.86zM5.41 20L4 18.59l7.72-7.72 1.47 1.35L5.41 20z\"/>\n",
              "  </svg>\n",
              "      </button>\n",
              "      \n",
              "  <style>\n",
              "    .colab-df-container {\n",
              "      display:flex;\n",
              "      flex-wrap:wrap;\n",
              "      gap: 12px;\n",
              "    }\n",
              "\n",
              "    .colab-df-convert {\n",
              "      background-color: #E8F0FE;\n",
              "      border: none;\n",
              "      border-radius: 50%;\n",
              "      cursor: pointer;\n",
              "      display: none;\n",
              "      fill: #1967D2;\n",
              "      height: 32px;\n",
              "      padding: 0 0 0 0;\n",
              "      width: 32px;\n",
              "    }\n",
              "\n",
              "    .colab-df-convert:hover {\n",
              "      background-color: #E2EBFA;\n",
              "      box-shadow: 0px 1px 2px rgba(60, 64, 67, 0.3), 0px 1px 3px 1px rgba(60, 64, 67, 0.15);\n",
              "      fill: #174EA6;\n",
              "    }\n",
              "\n",
              "    [theme=dark] .colab-df-convert {\n",
              "      background-color: #3B4455;\n",
              "      fill: #D2E3FC;\n",
              "    }\n",
              "\n",
              "    [theme=dark] .colab-df-convert:hover {\n",
              "      background-color: #434B5C;\n",
              "      box-shadow: 0px 1px 3px 1px rgba(0, 0, 0, 0.15);\n",
              "      filter: drop-shadow(0px 1px 2px rgba(0, 0, 0, 0.3));\n",
              "      fill: #FFFFFF;\n",
              "    }\n",
              "  </style>\n",
              "\n",
              "      <script>\n",
              "        const buttonEl =\n",
              "          document.querySelector('#df-4d96fd00-b972-494d-b6b4-0a5a73c93bad button.colab-df-convert');\n",
              "        buttonEl.style.display =\n",
              "          google.colab.kernel.accessAllowed ? 'block' : 'none';\n",
              "\n",
              "        async function convertToInteractive(key) {\n",
              "          const element = document.querySelector('#df-4d96fd00-b972-494d-b6b4-0a5a73c93bad');\n",
              "          const dataTable =\n",
              "            await google.colab.kernel.invokeFunction('convertToInteractive',\n",
              "                                                     [key], {});\n",
              "          if (!dataTable) return;\n",
              "\n",
              "          const docLinkHtml = 'Like what you see? Visit the ' +\n",
              "            '<a target=\"_blank\" href=https://colab.research.google.com/notebooks/data_table.ipynb>data table notebook</a>'\n",
              "            + ' to learn more about interactive tables.';\n",
              "          element.innerHTML = '';\n",
              "          dataTable['output_type'] = 'display_data';\n",
              "          await google.colab.output.renderOutput(dataTable, element);\n",
              "          const docLink = document.createElement('div');\n",
              "          docLink.innerHTML = docLinkHtml;\n",
              "          element.appendChild(docLink);\n",
              "        }\n",
              "      </script>\n",
              "    </div>\n",
              "  </div>\n",
              "  "
            ],
            "text/plain": [
              "Cor        Indígena    Branca     Preta   Amarela     Parda\n",
              "Sexo                                                       \n",
              "Masculino  0.002745  0.323943  0.067544  0.003624  0.295864\n",
              "Feminino   0.001191  0.140562  0.035580  0.001656  0.127291"
            ]
          },
          "metadata": {},
          "execution_count": 15
        }
      ]
    },
    {
      "cell_type": "code",
      "source": [
        "#Observado o cruzamento entre variáveis:\n",
        "#Os valores obtidos correspondem à renda de cada etnia e sexo do dataframe\n",
        "percentual = pd.crosstab(dados.Sexo, dados.Cor, aggfunc= \"mean\", values = dados.Renda)\n",
        "\n",
        "percentual.rename(index= sexo, inplace=True)\n",
        "percentual.rename(columns= cor, inplace= True)\n",
        "\n",
        "percentual"
      ],
      "metadata": {
        "colab": {
          "base_uri": "https://localhost:8080/",
          "height": 143
        },
        "id": "lganQls7PdwJ",
        "outputId": "b3ae3a9f-e301-4b61-9fbe-83b04d433770"
      },
      "execution_count": 16,
      "outputs": [
        {
          "output_type": "execute_result",
          "data": {
            "text/html": [
              "\n",
              "  <div id=\"df-66af36eb-2393-4353-ac4e-6a546051bfb6\">\n",
              "    <div class=\"colab-df-container\">\n",
              "      <div>\n",
              "<style scoped>\n",
              "    .dataframe tbody tr th:only-of-type {\n",
              "        vertical-align: middle;\n",
              "    }\n",
              "\n",
              "    .dataframe tbody tr th {\n",
              "        vertical-align: top;\n",
              "    }\n",
              "\n",
              "    .dataframe thead th {\n",
              "        text-align: right;\n",
              "    }\n",
              "</style>\n",
              "<table border=\"1\" class=\"dataframe\">\n",
              "  <thead>\n",
              "    <tr style=\"text-align: right;\">\n",
              "      <th>Cor</th>\n",
              "      <th>Indígena</th>\n",
              "      <th>Branca</th>\n",
              "      <th>Preta</th>\n",
              "      <th>Amarela</th>\n",
              "      <th>Parda</th>\n",
              "    </tr>\n",
              "    <tr>\n",
              "      <th>Sexo</th>\n",
              "      <th></th>\n",
              "      <th></th>\n",
              "      <th></th>\n",
              "      <th></th>\n",
              "      <th></th>\n",
              "    </tr>\n",
              "  </thead>\n",
              "  <tbody>\n",
              "    <tr>\n",
              "      <th>Masculino</th>\n",
              "      <td>1191.138462</td>\n",
              "      <td>3032.73191</td>\n",
              "      <td>1704.096423</td>\n",
              "      <td>4801.668998</td>\n",
              "      <td>1766.989493</td>\n",
              "    </tr>\n",
              "    <tr>\n",
              "      <th>Feminino</th>\n",
              "      <td>3173.581560</td>\n",
              "      <td>2163.83768</td>\n",
              "      <td>1197.079772</td>\n",
              "      <td>3356.989796</td>\n",
              "      <td>1230.091512</td>\n",
              "    </tr>\n",
              "  </tbody>\n",
              "</table>\n",
              "</div>\n",
              "      <button class=\"colab-df-convert\" onclick=\"convertToInteractive('df-66af36eb-2393-4353-ac4e-6a546051bfb6')\"\n",
              "              title=\"Convert this dataframe to an interactive table.\"\n",
              "              style=\"display:none;\">\n",
              "        \n",
              "  <svg xmlns=\"http://www.w3.org/2000/svg\" height=\"24px\"viewBox=\"0 0 24 24\"\n",
              "       width=\"24px\">\n",
              "    <path d=\"M0 0h24v24H0V0z\" fill=\"none\"/>\n",
              "    <path d=\"M18.56 5.44l.94 2.06.94-2.06 2.06-.94-2.06-.94-.94-2.06-.94 2.06-2.06.94zm-11 1L8.5 8.5l.94-2.06 2.06-.94-2.06-.94L8.5 2.5l-.94 2.06-2.06.94zm10 10l.94 2.06.94-2.06 2.06-.94-2.06-.94-.94-2.06-.94 2.06-2.06.94z\"/><path d=\"M17.41 7.96l-1.37-1.37c-.4-.4-.92-.59-1.43-.59-.52 0-1.04.2-1.43.59L10.3 9.45l-7.72 7.72c-.78.78-.78 2.05 0 2.83L4 21.41c.39.39.9.59 1.41.59.51 0 1.02-.2 1.41-.59l7.78-7.78 2.81-2.81c.8-.78.8-2.07 0-2.86zM5.41 20L4 18.59l7.72-7.72 1.47 1.35L5.41 20z\"/>\n",
              "  </svg>\n",
              "      </button>\n",
              "      \n",
              "  <style>\n",
              "    .colab-df-container {\n",
              "      display:flex;\n",
              "      flex-wrap:wrap;\n",
              "      gap: 12px;\n",
              "    }\n",
              "\n",
              "    .colab-df-convert {\n",
              "      background-color: #E8F0FE;\n",
              "      border: none;\n",
              "      border-radius: 50%;\n",
              "      cursor: pointer;\n",
              "      display: none;\n",
              "      fill: #1967D2;\n",
              "      height: 32px;\n",
              "      padding: 0 0 0 0;\n",
              "      width: 32px;\n",
              "    }\n",
              "\n",
              "    .colab-df-convert:hover {\n",
              "      background-color: #E2EBFA;\n",
              "      box-shadow: 0px 1px 2px rgba(60, 64, 67, 0.3), 0px 1px 3px 1px rgba(60, 64, 67, 0.15);\n",
              "      fill: #174EA6;\n",
              "    }\n",
              "\n",
              "    [theme=dark] .colab-df-convert {\n",
              "      background-color: #3B4455;\n",
              "      fill: #D2E3FC;\n",
              "    }\n",
              "\n",
              "    [theme=dark] .colab-df-convert:hover {\n",
              "      background-color: #434B5C;\n",
              "      box-shadow: 0px 1px 3px 1px rgba(0, 0, 0, 0.15);\n",
              "      filter: drop-shadow(0px 1px 2px rgba(0, 0, 0, 0.3));\n",
              "      fill: #FFFFFF;\n",
              "    }\n",
              "  </style>\n",
              "\n",
              "      <script>\n",
              "        const buttonEl =\n",
              "          document.querySelector('#df-66af36eb-2393-4353-ac4e-6a546051bfb6 button.colab-df-convert');\n",
              "        buttonEl.style.display =\n",
              "          google.colab.kernel.accessAllowed ? 'block' : 'none';\n",
              "\n",
              "        async function convertToInteractive(key) {\n",
              "          const element = document.querySelector('#df-66af36eb-2393-4353-ac4e-6a546051bfb6');\n",
              "          const dataTable =\n",
              "            await google.colab.kernel.invokeFunction('convertToInteractive',\n",
              "                                                     [key], {});\n",
              "          if (!dataTable) return;\n",
              "\n",
              "          const docLinkHtml = 'Like what you see? Visit the ' +\n",
              "            '<a target=\"_blank\" href=https://colab.research.google.com/notebooks/data_table.ipynb>data table notebook</a>'\n",
              "            + ' to learn more about interactive tables.';\n",
              "          element.innerHTML = '';\n",
              "          dataTable['output_type'] = 'display_data';\n",
              "          await google.colab.output.renderOutput(dataTable, element);\n",
              "          const docLink = document.createElement('div');\n",
              "          docLink.innerHTML = docLinkHtml;\n",
              "          element.appendChild(docLink);\n",
              "        }\n",
              "      </script>\n",
              "    </div>\n",
              "  </div>\n",
              "  "
            ],
            "text/plain": [
              "Cor           Indígena      Branca        Preta      Amarela        Parda\n",
              "Sexo                                                                     \n",
              "Masculino  1191.138462  3032.73191  1704.096423  4801.668998  1766.989493\n",
              "Feminino   3173.581560  2163.83768  1197.079772  3356.989796  1230.091512"
            ]
          },
          "metadata": {},
          "execution_count": 16
        }
      ]
    },
    {
      "cell_type": "markdown",
      "source": [
        "#Variáveis quantitativas"
      ],
      "metadata": {
        "id": "S9bURtTJQuGq"
      }
    },
    {
      "cell_type": "code",
      "source": [
        "dados.Renda.min()"
      ],
      "metadata": {
        "colab": {
          "base_uri": "https://localhost:8080/"
        },
        "id": "FvfFIY9zQxvp",
        "outputId": "d6a4f92d-1640-4d73-a7e5-caab85c63b86"
      },
      "execution_count": 17,
      "outputs": [
        {
          "output_type": "execute_result",
          "data": {
            "text/plain": [
              "0.0"
            ]
          },
          "metadata": {},
          "execution_count": 17
        }
      ]
    },
    {
      "cell_type": "code",
      "source": [
        "dados.Renda.max()"
      ],
      "metadata": {
        "colab": {
          "base_uri": "https://localhost:8080/"
        },
        "id": "8XpeS4FhQ1w5",
        "outputId": "3b084df1-43c0-47a3-dc75-fe51cc652d1d"
      },
      "execution_count": 18,
      "outputs": [
        {
          "output_type": "execute_result",
          "data": {
            "text/plain": [
              "200000.0"
            ]
          },
          "metadata": {},
          "execution_count": 18
        }
      ]
    },
    {
      "cell_type": "code",
      "source": [
        "classes = [0, 1576, 3152, 7880, 15770, 200000]\n",
        "labels = ['E', 'D', 'C', 'B', 'A']"
      ],
      "metadata": {
        "id": "ACdQbMOXQ6cV"
      },
      "execution_count": 19,
      "outputs": []
    },
    {
      "cell_type": "code",
      "source": [
        "#Criar agora a relação entre as classes economicas e as classificações das rendas:\n",
        "pd.cut(x= dados.Renda, bins = classes, labels=labels, include_lowest=True).head()"
      ],
      "metadata": {
        "colab": {
          "base_uri": "https://localhost:8080/"
        },
        "id": "ONNp8k9zROSH",
        "outputId": "2f18fc1b-3e2c-4c92-8707-6b796bd2f447"
      },
      "execution_count": 20,
      "outputs": [
        {
          "output_type": "execute_result",
          "data": {
            "text/plain": [
              "0    E\n",
              "1    E\n",
              "2    E\n",
              "3    C\n",
              "4    E\n",
              "Name: Renda, dtype: category\n",
              "Categories (5, object): ['E' < 'D' < 'C' < 'B' < 'A']"
            ]
          },
          "metadata": {},
          "execution_count": 20
        }
      ]
    },
    {
      "cell_type": "code",
      "source": [
        "#em uma forma mais palatável:\n",
        "frequencia = pd.value_counts(pd.cut(x= dados.Renda, bins = classes, labels=labels, include_lowest=True))\n",
        "frequencia"
      ],
      "metadata": {
        "colab": {
          "base_uri": "https://localhost:8080/"
        },
        "id": "-qnJs8MOSFCE",
        "outputId": "f52ca8b4-320a-4db1-f276-1a11c45737d2"
      },
      "execution_count": 21,
      "outputs": [
        {
          "output_type": "execute_result",
          "data": {
            "text/plain": [
              "E    72470\n",
              "D    28304\n",
              "C    12765\n",
              "B     3771\n",
              "A     1072\n",
              "Name: Renda, dtype: int64"
            ]
          },
          "metadata": {},
          "execution_count": 21
        }
      ]
    },
    {
      "cell_type": "code",
      "source": [
        "#Em percentual:\n",
        "percentual = pd.value_counts(pd.cut(x= dados.Renda, bins = classes, labels=labels, include_lowest=True), normalize = True)\n",
        "percentual"
      ],
      "metadata": {
        "colab": {
          "base_uri": "https://localhost:8080/"
        },
        "id": "PFoDbNoGSGTc",
        "outputId": "a858de41-d702-4c7c-919e-4f536e45f6b1"
      },
      "execution_count": 22,
      "outputs": [
        {
          "output_type": "execute_result",
          "data": {
            "text/plain": [
              "E    0.612171\n",
              "D    0.239090\n",
              "C    0.107829\n",
              "B    0.031855\n",
              "A    0.009055\n",
              "Name: Renda, dtype: float64"
            ]
          },
          "metadata": {},
          "execution_count": 22
        }
      ]
    },
    {
      "cell_type": "code",
      "source": [
        "dist_freq_quantitativas = pd.DataFrame({'Frequência': frequencia, 'Porcentagem (%)': percentual})\n",
        "dist_freq_quantitativas"
      ],
      "metadata": {
        "colab": {
          "base_uri": "https://localhost:8080/",
          "height": 206
        },
        "id": "X-zkr567Sx2j",
        "outputId": "9cb0f753-c045-4452-b2d3-9b5dab98bfd0"
      },
      "execution_count": 23,
      "outputs": [
        {
          "output_type": "execute_result",
          "data": {
            "text/html": [
              "\n",
              "  <div id=\"df-ece01a40-6683-4e5b-a3b2-97580c6ba135\">\n",
              "    <div class=\"colab-df-container\">\n",
              "      <div>\n",
              "<style scoped>\n",
              "    .dataframe tbody tr th:only-of-type {\n",
              "        vertical-align: middle;\n",
              "    }\n",
              "\n",
              "    .dataframe tbody tr th {\n",
              "        vertical-align: top;\n",
              "    }\n",
              "\n",
              "    .dataframe thead th {\n",
              "        text-align: right;\n",
              "    }\n",
              "</style>\n",
              "<table border=\"1\" class=\"dataframe\">\n",
              "  <thead>\n",
              "    <tr style=\"text-align: right;\">\n",
              "      <th></th>\n",
              "      <th>Frequência</th>\n",
              "      <th>Porcentagem (%)</th>\n",
              "    </tr>\n",
              "  </thead>\n",
              "  <tbody>\n",
              "    <tr>\n",
              "      <th>E</th>\n",
              "      <td>72470</td>\n",
              "      <td>0.612171</td>\n",
              "    </tr>\n",
              "    <tr>\n",
              "      <th>D</th>\n",
              "      <td>28304</td>\n",
              "      <td>0.239090</td>\n",
              "    </tr>\n",
              "    <tr>\n",
              "      <th>C</th>\n",
              "      <td>12765</td>\n",
              "      <td>0.107829</td>\n",
              "    </tr>\n",
              "    <tr>\n",
              "      <th>B</th>\n",
              "      <td>3771</td>\n",
              "      <td>0.031855</td>\n",
              "    </tr>\n",
              "    <tr>\n",
              "      <th>A</th>\n",
              "      <td>1072</td>\n",
              "      <td>0.009055</td>\n",
              "    </tr>\n",
              "  </tbody>\n",
              "</table>\n",
              "</div>\n",
              "      <button class=\"colab-df-convert\" onclick=\"convertToInteractive('df-ece01a40-6683-4e5b-a3b2-97580c6ba135')\"\n",
              "              title=\"Convert this dataframe to an interactive table.\"\n",
              "              style=\"display:none;\">\n",
              "        \n",
              "  <svg xmlns=\"http://www.w3.org/2000/svg\" height=\"24px\"viewBox=\"0 0 24 24\"\n",
              "       width=\"24px\">\n",
              "    <path d=\"M0 0h24v24H0V0z\" fill=\"none\"/>\n",
              "    <path d=\"M18.56 5.44l.94 2.06.94-2.06 2.06-.94-2.06-.94-.94-2.06-.94 2.06-2.06.94zm-11 1L8.5 8.5l.94-2.06 2.06-.94-2.06-.94L8.5 2.5l-.94 2.06-2.06.94zm10 10l.94 2.06.94-2.06 2.06-.94-2.06-.94-.94-2.06-.94 2.06-2.06.94z\"/><path d=\"M17.41 7.96l-1.37-1.37c-.4-.4-.92-.59-1.43-.59-.52 0-1.04.2-1.43.59L10.3 9.45l-7.72 7.72c-.78.78-.78 2.05 0 2.83L4 21.41c.39.39.9.59 1.41.59.51 0 1.02-.2 1.41-.59l7.78-7.78 2.81-2.81c.8-.78.8-2.07 0-2.86zM5.41 20L4 18.59l7.72-7.72 1.47 1.35L5.41 20z\"/>\n",
              "  </svg>\n",
              "      </button>\n",
              "      \n",
              "  <style>\n",
              "    .colab-df-container {\n",
              "      display:flex;\n",
              "      flex-wrap:wrap;\n",
              "      gap: 12px;\n",
              "    }\n",
              "\n",
              "    .colab-df-convert {\n",
              "      background-color: #E8F0FE;\n",
              "      border: none;\n",
              "      border-radius: 50%;\n",
              "      cursor: pointer;\n",
              "      display: none;\n",
              "      fill: #1967D2;\n",
              "      height: 32px;\n",
              "      padding: 0 0 0 0;\n",
              "      width: 32px;\n",
              "    }\n",
              "\n",
              "    .colab-df-convert:hover {\n",
              "      background-color: #E2EBFA;\n",
              "      box-shadow: 0px 1px 2px rgba(60, 64, 67, 0.3), 0px 1px 3px 1px rgba(60, 64, 67, 0.15);\n",
              "      fill: #174EA6;\n",
              "    }\n",
              "\n",
              "    [theme=dark] .colab-df-convert {\n",
              "      background-color: #3B4455;\n",
              "      fill: #D2E3FC;\n",
              "    }\n",
              "\n",
              "    [theme=dark] .colab-df-convert:hover {\n",
              "      background-color: #434B5C;\n",
              "      box-shadow: 0px 1px 3px 1px rgba(0, 0, 0, 0.15);\n",
              "      filter: drop-shadow(0px 1px 2px rgba(0, 0, 0, 0.3));\n",
              "      fill: #FFFFFF;\n",
              "    }\n",
              "  </style>\n",
              "\n",
              "      <script>\n",
              "        const buttonEl =\n",
              "          document.querySelector('#df-ece01a40-6683-4e5b-a3b2-97580c6ba135 button.colab-df-convert');\n",
              "        buttonEl.style.display =\n",
              "          google.colab.kernel.accessAllowed ? 'block' : 'none';\n",
              "\n",
              "        async function convertToInteractive(key) {\n",
              "          const element = document.querySelector('#df-ece01a40-6683-4e5b-a3b2-97580c6ba135');\n",
              "          const dataTable =\n",
              "            await google.colab.kernel.invokeFunction('convertToInteractive',\n",
              "                                                     [key], {});\n",
              "          if (!dataTable) return;\n",
              "\n",
              "          const docLinkHtml = 'Like what you see? Visit the ' +\n",
              "            '<a target=\"_blank\" href=https://colab.research.google.com/notebooks/data_table.ipynb>data table notebook</a>'\n",
              "            + ' to learn more about interactive tables.';\n",
              "          element.innerHTML = '';\n",
              "          dataTable['output_type'] = 'display_data';\n",
              "          await google.colab.output.renderOutput(dataTable, element);\n",
              "          const docLink = document.createElement('div');\n",
              "          docLink.innerHTML = docLinkHtml;\n",
              "          element.appendChild(docLink);\n",
              "        }\n",
              "      </script>\n",
              "    </div>\n",
              "  </div>\n",
              "  "
            ],
            "text/plain": [
              "   Frequência  Porcentagem (%)\n",
              "E       72470         0.612171\n",
              "D       28304         0.239090\n",
              "C       12765         0.107829\n",
              "B        3771         0.031855\n",
              "A        1072         0.009055"
            ]
          },
          "metadata": {},
          "execution_count": 23
        }
      ]
    },
    {
      "cell_type": "code",
      "source": [
        "#Invertendo a ordem de amostragem:\n",
        "dist_freq_quantitativas.sort_index(ascending=False)"
      ],
      "metadata": {
        "colab": {
          "base_uri": "https://localhost:8080/",
          "height": 206
        },
        "id": "zVaPKxn9THuj",
        "outputId": "a149f18a-bc87-410f-b606-435189addfe3"
      },
      "execution_count": 24,
      "outputs": [
        {
          "output_type": "execute_result",
          "data": {
            "text/html": [
              "\n",
              "  <div id=\"df-4b14ee07-bef5-4709-9434-afaa8683a789\">\n",
              "    <div class=\"colab-df-container\">\n",
              "      <div>\n",
              "<style scoped>\n",
              "    .dataframe tbody tr th:only-of-type {\n",
              "        vertical-align: middle;\n",
              "    }\n",
              "\n",
              "    .dataframe tbody tr th {\n",
              "        vertical-align: top;\n",
              "    }\n",
              "\n",
              "    .dataframe thead th {\n",
              "        text-align: right;\n",
              "    }\n",
              "</style>\n",
              "<table border=\"1\" class=\"dataframe\">\n",
              "  <thead>\n",
              "    <tr style=\"text-align: right;\">\n",
              "      <th></th>\n",
              "      <th>Frequência</th>\n",
              "      <th>Porcentagem (%)</th>\n",
              "    </tr>\n",
              "  </thead>\n",
              "  <tbody>\n",
              "    <tr>\n",
              "      <th>A</th>\n",
              "      <td>1072</td>\n",
              "      <td>0.009055</td>\n",
              "    </tr>\n",
              "    <tr>\n",
              "      <th>B</th>\n",
              "      <td>3771</td>\n",
              "      <td>0.031855</td>\n",
              "    </tr>\n",
              "    <tr>\n",
              "      <th>C</th>\n",
              "      <td>12765</td>\n",
              "      <td>0.107829</td>\n",
              "    </tr>\n",
              "    <tr>\n",
              "      <th>D</th>\n",
              "      <td>28304</td>\n",
              "      <td>0.239090</td>\n",
              "    </tr>\n",
              "    <tr>\n",
              "      <th>E</th>\n",
              "      <td>72470</td>\n",
              "      <td>0.612171</td>\n",
              "    </tr>\n",
              "  </tbody>\n",
              "</table>\n",
              "</div>\n",
              "      <button class=\"colab-df-convert\" onclick=\"convertToInteractive('df-4b14ee07-bef5-4709-9434-afaa8683a789')\"\n",
              "              title=\"Convert this dataframe to an interactive table.\"\n",
              "              style=\"display:none;\">\n",
              "        \n",
              "  <svg xmlns=\"http://www.w3.org/2000/svg\" height=\"24px\"viewBox=\"0 0 24 24\"\n",
              "       width=\"24px\">\n",
              "    <path d=\"M0 0h24v24H0V0z\" fill=\"none\"/>\n",
              "    <path d=\"M18.56 5.44l.94 2.06.94-2.06 2.06-.94-2.06-.94-.94-2.06-.94 2.06-2.06.94zm-11 1L8.5 8.5l.94-2.06 2.06-.94-2.06-.94L8.5 2.5l-.94 2.06-2.06.94zm10 10l.94 2.06.94-2.06 2.06-.94-2.06-.94-.94-2.06-.94 2.06-2.06.94z\"/><path d=\"M17.41 7.96l-1.37-1.37c-.4-.4-.92-.59-1.43-.59-.52 0-1.04.2-1.43.59L10.3 9.45l-7.72 7.72c-.78.78-.78 2.05 0 2.83L4 21.41c.39.39.9.59 1.41.59.51 0 1.02-.2 1.41-.59l7.78-7.78 2.81-2.81c.8-.78.8-2.07 0-2.86zM5.41 20L4 18.59l7.72-7.72 1.47 1.35L5.41 20z\"/>\n",
              "  </svg>\n",
              "      </button>\n",
              "      \n",
              "  <style>\n",
              "    .colab-df-container {\n",
              "      display:flex;\n",
              "      flex-wrap:wrap;\n",
              "      gap: 12px;\n",
              "    }\n",
              "\n",
              "    .colab-df-convert {\n",
              "      background-color: #E8F0FE;\n",
              "      border: none;\n",
              "      border-radius: 50%;\n",
              "      cursor: pointer;\n",
              "      display: none;\n",
              "      fill: #1967D2;\n",
              "      height: 32px;\n",
              "      padding: 0 0 0 0;\n",
              "      width: 32px;\n",
              "    }\n",
              "\n",
              "    .colab-df-convert:hover {\n",
              "      background-color: #E2EBFA;\n",
              "      box-shadow: 0px 1px 2px rgba(60, 64, 67, 0.3), 0px 1px 3px 1px rgba(60, 64, 67, 0.15);\n",
              "      fill: #174EA6;\n",
              "    }\n",
              "\n",
              "    [theme=dark] .colab-df-convert {\n",
              "      background-color: #3B4455;\n",
              "      fill: #D2E3FC;\n",
              "    }\n",
              "\n",
              "    [theme=dark] .colab-df-convert:hover {\n",
              "      background-color: #434B5C;\n",
              "      box-shadow: 0px 1px 3px 1px rgba(0, 0, 0, 0.15);\n",
              "      filter: drop-shadow(0px 1px 2px rgba(0, 0, 0, 0.3));\n",
              "      fill: #FFFFFF;\n",
              "    }\n",
              "  </style>\n",
              "\n",
              "      <script>\n",
              "        const buttonEl =\n",
              "          document.querySelector('#df-4b14ee07-bef5-4709-9434-afaa8683a789 button.colab-df-convert');\n",
              "        buttonEl.style.display =\n",
              "          google.colab.kernel.accessAllowed ? 'block' : 'none';\n",
              "\n",
              "        async function convertToInteractive(key) {\n",
              "          const element = document.querySelector('#df-4b14ee07-bef5-4709-9434-afaa8683a789');\n",
              "          const dataTable =\n",
              "            await google.colab.kernel.invokeFunction('convertToInteractive',\n",
              "                                                     [key], {});\n",
              "          if (!dataTable) return;\n",
              "\n",
              "          const docLinkHtml = 'Like what you see? Visit the ' +\n",
              "            '<a target=\"_blank\" href=https://colab.research.google.com/notebooks/data_table.ipynb>data table notebook</a>'\n",
              "            + ' to learn more about interactive tables.';\n",
              "          element.innerHTML = '';\n",
              "          dataTable['output_type'] = 'display_data';\n",
              "          await google.colab.output.renderOutput(dataTable, element);\n",
              "          const docLink = document.createElement('div');\n",
              "          docLink.innerHTML = docLinkHtml;\n",
              "          element.appendChild(docLink);\n",
              "        }\n",
              "      </script>\n",
              "    </div>\n",
              "  </div>\n",
              "  "
            ],
            "text/plain": [
              "   Frequência  Porcentagem (%)\n",
              "A        1072         0.009055\n",
              "B        3771         0.031855\n",
              "C       12765         0.107829\n",
              "D       28304         0.239090\n",
              "E       72470         0.612171"
            ]
          },
          "metadata": {},
          "execution_count": 24
        }
      ]
    },
    {
      "cell_type": "markdown",
      "source": [
        "#Trabalhando com Histogramas:"
      ],
      "metadata": {
        "id": "ig5RdCAOWGz5"
      }
    },
    {
      "cell_type": "code",
      "source": [
        "ax = sns.distplot(dados.Altura, kde = False)"
      ],
      "metadata": {
        "colab": {
          "base_uri": "https://localhost:8080/",
          "height": 333
        },
        "id": "tFldR54LWIrF",
        "outputId": "7e50ae2b-a732-41c7-817e-f120ec76c4e6"
      },
      "execution_count": 25,
      "outputs": [
        {
          "output_type": "stream",
          "name": "stderr",
          "text": [
            "/usr/local/lib/python3.7/dist-packages/seaborn/distributions.py:2619: FutureWarning: `distplot` is a deprecated function and will be removed in a future version. Please adapt your code to use either `displot` (a figure-level function with similar flexibility) or `histplot` (an axes-level function for histograms).\n",
            "  warnings.warn(msg, FutureWarning)\n"
          ]
        },
        {
          "output_type": "display_data",
          "data": {
            "image/png": "[encoded data removed]",
            "text/plain": [
              "<Figure size 432x288 with 1 Axes>"
            ]
          },
          "metadata": {
            "needs_background": "light"
          }
        }
      ]
    },
    {
      "cell_type": "code",
      "source": [
        "ax = sns.distplot(dados.Altura, kde = False)\n",
        "\n",
        "ax.figure.set_size_inches(12, 6)\n",
        "ax.set_title('Distribuição de Frequências - Altura', fontsize=18)\n",
        "ax.set_xlabel('Metros', fontsize=14)\n",
        "ax"
      ],
      "metadata": {
        "colab": {
          "base_uri": "https://localhost:8080/",
          "height": 485
        },
        "id": "ayFcIIO5WYSO",
        "outputId": "b1abcb46-c384-4951-d614-3eaa427cc3ce"
      },
      "execution_count": 26,
      "outputs": [
        {
          "output_type": "stream",
          "name": "stderr",
          "text": [
            "/usr/local/lib/python3.7/dist-packages/seaborn/distributions.py:2619: FutureWarning: `distplot` is a deprecated function and will be removed in a future version. Please adapt your code to use either `displot` (a figure-level function with similar flexibility) or `histplot` (an axes-level function for histograms).\n",
            "  warnings.warn(msg, FutureWarning)\n"
          ]
        },
        {
          "output_type": "execute_result",
          "data": {
            "text/plain": [
              "<matplotlib.axes._subplots.AxesSubplot at 0x7fac1aab9e90>"
            ]
          },
          "metadata": {},
          "execution_count": 26
        },
        {
          "output_type": "display_data",
          "data": {
            "image/png": "[encoded data removed]",
            "text/plain": [
              "<Figure size 864x432 with 1 Axes>"
            ]
          },
          "metadata": {
            "needs_background": "light"
          }
        }
      ]
    },
    {
      "cell_type": "code",
      "source": [
        "ax = sns.distplot(dados.Altura)\n",
        "\n",
        "ax.figure.set_size_inches(12, 6)\n",
        "ax.set_title('Distribuição de Frequências - Altura - KDE', fontsize=18)\n",
        "ax.set_xlabel('Metros', fontsize=14)\n",
        "ax"
      ],
      "metadata": {
        "colab": {
          "base_uri": "https://localhost:8080/",
          "height": 485
        },
        "id": "yCtkhnBYWexE",
        "outputId": "b82cbf45-306f-4e12-831a-af6f5cbe62d2"
      },
      "execution_count": 27,
      "outputs": [
        {
          "output_type": "stream",
          "name": "stderr",
          "text": [
            "/usr/local/lib/python3.7/dist-packages/seaborn/distributions.py:2619: FutureWarning: `distplot` is a deprecated function and will be removed in a future version. Please adapt your code to use either `displot` (a figure-level function with similar flexibility) or `histplot` (an axes-level function for histograms).\n",
            "  warnings.warn(msg, FutureWarning)\n"
          ]
        },
        {
          "output_type": "execute_result",
          "data": {
            "text/plain": [
              "<matplotlib.axes._subplots.AxesSubplot at 0x7fac1a51e250>"
            ]
          },
          "metadata": {},
          "execution_count": 27
        },
        {
          "output_type": "display_data",
          "data": {
            "image/png": "[encoded data removed]",
            "text/plain": [
              "<Figure size 864x432 with 1 Axes>"
            ]
          },
          "metadata": {
            "needs_background": "light"
          }
        }
      ]
    },
    {
      "cell_type": "code",
      "source": [
        "dados.Altura.hist(bins = 50, figsize=(12,6))"
      ],
      "metadata": {
        "id": "ads1SzpeWi6Y",
        "outputId": "3ede82bd-3b7a-4a77-aa18-79e76644a1c2",
        "colab": {
          "base_uri": "https://localhost:8080/",
          "height": 391
        }
      },
      "execution_count": 28,
      "outputs": [
        {
          "output_type": "execute_result",
          "data": {
            "text/plain": [
              "<matplotlib.axes._subplots.AxesSubplot at 0x7fac0fbe0fd0>"
            ]
          },
          "metadata": {},
          "execution_count": 28
        },
        {
          "output_type": "display_data",
          "data": {
            "image/png": "[encoded data removed]",
            "text/plain": [
              "<Figure size 864x432 with 1 Axes>"
            ]
          },
          "metadata": {
            "needs_background": "light"
          }
        }
      ]
    },
    {
      "cell_type": "markdown",
      "source": [
        "## Medidas de tendências centrais"
      ],
      "metadata": {
        "id": "SVPV0hr6-aUl"
      }
    },
    {
      "cell_type": "markdown",
      "source": [
        "Média:"
      ],
      "metadata": {
        "id": "X6n904CBC4Ou"
      }
    },
    {
      "cell_type": "code",
      "source": [
        "df = pd.DataFrame(data = {'Fulano': [8, 10, 4, 8, 6, 10, 8],\n",
        "                          'Beltrano': [10, 2, 0.5, 1, 3, 9.5, 10],\n",
        "                          'Sicrano': [7.5, 8, 7, 8, 8, 8.5, 7]},\n",
        "                 index = ['Matemática',\n",
        "                          'Português',\n",
        "                          'Inglês',\n",
        "                          'Geografia',\n",
        "                          'História',\n",
        "                          'Física',\n",
        "                          'Química'])\n",
        "df.rename_axis('Matérias', axis = 'columns', inplace = True)\n",
        "df"
      ],
      "metadata": {
        "colab": {
          "base_uri": "https://localhost:8080/",
          "height": 268
        },
        "id": "6vjHTrQ1_pym",
        "outputId": "de4990a9-63b3-4e02-8c5a-928e90449b7c"
      },
      "execution_count": 29,
      "outputs": [
        {
          "output_type": "execute_result",
          "data": {
            "text/html": [
              "\n",
              "  <div id=\"df-065da23a-851b-4e33-be92-5e5f49b34af5\">\n",
              "    <div class=\"colab-df-container\">\n",
              "      <div>\n",
              "<style scoped>\n",
              "    .dataframe tbody tr th:only-of-type {\n",
              "        vertical-align: middle;\n",
              "    }\n",
              "\n",
              "    .dataframe tbody tr th {\n",
              "        vertical-align: top;\n",
              "    }\n",
              "\n",
              "    .dataframe thead th {\n",
              "        text-align: right;\n",
              "    }\n",
              "</style>\n",
              "<table border=\"1\" class=\"dataframe\">\n",
              "  <thead>\n",
              "    <tr style=\"text-align: right;\">\n",
              "      <th>Matérias</th>\n",
              "      <th>Fulano</th>\n",
              "      <th>Beltrano</th>\n",
              "      <th>Sicrano</th>\n",
              "    </tr>\n",
              "  </thead>\n",
              "  <tbody>\n",
              "    <tr>\n",
              "      <th>Matemática</th>\n",
              "      <td>8</td>\n",
              "      <td>10.0</td>\n",
              "      <td>7.5</td>\n",
              "    </tr>\n",
              "    <tr>\n",
              "      <th>Português</th>\n",
              "      <td>10</td>\n",
              "      <td>2.0</td>\n",
              "      <td>8.0</td>\n",
              "    </tr>\n",
              "    <tr>\n",
              "      <th>Inglês</th>\n",
              "      <td>4</td>\n",
              "      <td>0.5</td>\n",
              "      <td>7.0</td>\n",
              "    </tr>\n",
              "    <tr>\n",
              "      <th>Geografia</th>\n",
              "      <td>8</td>\n",
              "      <td>1.0</td>\n",
              "      <td>8.0</td>\n",
              "    </tr>\n",
              "    <tr>\n",
              "      <th>História</th>\n",
              "      <td>6</td>\n",
              "      <td>3.0</td>\n",
              "      <td>8.0</td>\n",
              "    </tr>\n",
              "    <tr>\n",
              "      <th>Física</th>\n",
              "      <td>10</td>\n",
              "      <td>9.5</td>\n",
              "      <td>8.5</td>\n",
              "    </tr>\n",
              "    <tr>\n",
              "      <th>Química</th>\n",
              "      <td>8</td>\n",
              "      <td>10.0</td>\n",
              "      <td>7.0</td>\n",
              "    </tr>\n",
              "  </tbody>\n",
              "</table>\n",
              "</div>\n",
              "      <button class=\"colab-df-convert\" onclick=\"convertToInteractive('df-065da23a-851b-4e33-be92-5e5f49b34af5')\"\n",
              "              title=\"Convert this dataframe to an interactive table.\"\n",
              "              style=\"display:none;\">\n",
              "        \n",
              "  <svg xmlns=\"http://www.w3.org/2000/svg\" height=\"24px\"viewBox=\"0 0 24 24\"\n",
              "       width=\"24px\">\n",
              "    <path d=\"M0 0h24v24H0V0z\" fill=\"none\"/>\n",
              "    <path d=\"M18.56 5.44l.94 2.06.94-2.06 2.06-.94-2.06-.94-.94-2.06-.94 2.06-2.06.94zm-11 1L8.5 8.5l.94-2.06 2.06-.94-2.06-.94L8.5 2.5l-.94 2.06-2.06.94zm10 10l.94 2.06.94-2.06 2.06-.94-2.06-.94-.94-2.06-.94 2.06-2.06.94z\"/><path d=\"M17.41 7.96l-1.37-1.37c-.4-.4-.92-.59-1.43-.59-.52 0-1.04.2-1.43.59L10.3 9.45l-7.72 7.72c-.78.78-.78 2.05 0 2.83L4 21.41c.39.39.9.59 1.41.59.51 0 1.02-.2 1.41-.59l7.78-7.78 2.81-2.81c.8-.78.8-2.07 0-2.86zM5.41 20L4 18.59l7.72-7.72 1.47 1.35L5.41 20z\"/>\n",
              "  </svg>\n",
              "      </button>\n",
              "      \n",
              "  <style>\n",
              "    .colab-df-container {\n",
              "      display:flex;\n",
              "      flex-wrap:wrap;\n",
              "      gap: 12px;\n",
              "    }\n",
              "\n",
              "    .colab-df-convert {\n",
              "      background-color: #E8F0FE;\n",
              "      border: none;\n",
              "      border-radius: 50%;\n",
              "      cursor: pointer;\n",
              "      display: none;\n",
              "      fill: #1967D2;\n",
              "      height: 32px;\n",
              "      padding: 0 0 0 0;\n",
              "      width: 32px;\n",
              "    }\n",
              "\n",
              "    .colab-df-convert:hover {\n",
              "      background-color: #E2EBFA;\n",
              "      box-shadow: 0px 1px 2px rgba(60, 64, 67, 0.3), 0px 1px 3px 1px rgba(60, 64, 67, 0.15);\n",
              "      fill: #174EA6;\n",
              "    }\n",
              "\n",
              "    [theme=dark] .colab-df-convert {\n",
              "      background-color: #3B4455;\n",
              "      fill: #D2E3FC;\n",
              "    }\n",
              "\n",
              "    [theme=dark] .colab-df-convert:hover {\n",
              "      background-color: #434B5C;\n",
              "      box-shadow: 0px 1px 3px 1px rgba(0, 0, 0, 0.15);\n",
              "      filter: drop-shadow(0px 1px 2px rgba(0, 0, 0, 0.3));\n",
              "      fill: #FFFFFF;\n",
              "    }\n",
              "  </style>\n",
              "\n",
              "      <script>\n",
              "        const buttonEl =\n",
              "          document.querySelector('#df-065da23a-851b-4e33-be92-5e5f49b34af5 button.colab-df-convert');\n",
              "        buttonEl.style.display =\n",
              "          google.colab.kernel.accessAllowed ? 'block' : 'none';\n",
              "\n",
              "        async function convertToInteractive(key) {\n",
              "          const element = document.querySelector('#df-065da23a-851b-4e33-be92-5e5f49b34af5');\n",
              "          const dataTable =\n",
              "            await google.colab.kernel.invokeFunction('convertToInteractive',\n",
              "                                                     [key], {});\n",
              "          if (!dataTable) return;\n",
              "\n",
              "          const docLinkHtml = 'Like what you see? Visit the ' +\n",
              "            '<a target=\"_blank\" href=https://colab.research.google.com/notebooks/data_table.ipynb>data table notebook</a>'\n",
              "            + ' to learn more about interactive tables.';\n",
              "          element.innerHTML = '';\n",
              "          dataTable['output_type'] = 'display_data';\n",
              "          await google.colab.output.renderOutput(dataTable, element);\n",
              "          const docLink = document.createElement('div');\n",
              "          docLink.innerHTML = docLinkHtml;\n",
              "          element.appendChild(docLink);\n",
              "        }\n",
              "      </script>\n",
              "    </div>\n",
              "  </div>\n",
              "  "
            ],
            "text/plain": [
              "Matérias    Fulano  Beltrano  Sicrano\n",
              "Matemática       8      10.0      7.5\n",
              "Português       10       2.0      8.0\n",
              "Inglês           4       0.5      7.0\n",
              "Geografia        8       1.0      8.0\n",
              "História         6       3.0      8.0\n",
              "Física          10       9.5      8.5\n",
              "Química          8      10.0      7.0"
            ]
          },
          "metadata": {},
          "execution_count": 29
        }
      ]
    },
    {
      "cell_type": "markdown",
      "source": [
        "Calculando a média aritmética das matérias:"
      ],
      "metadata": {
        "id": "cn-YcX-xBHuV"
      }
    },
    {
      "cell_type": "code",
      "source": [
        "df['Fulano'].mean()"
      ],
      "metadata": {
        "colab": {
          "base_uri": "https://localhost:8080/"
        },
        "id": "AwSqOxGUBKWs",
        "outputId": "48861a84-3360-41d4-a2d7-3560020f694a"
      },
      "execution_count": 30,
      "outputs": [
        {
          "output_type": "execute_result",
          "data": {
            "text/plain": [
              "7.714285714285714"
            ]
          },
          "metadata": {},
          "execution_count": 30
        }
      ]
    },
    {
      "cell_type": "code",
      "source": [
        "df['Sicrano'].mean()"
      ],
      "metadata": {
        "colab": {
          "base_uri": "https://localhost:8080/"
        },
        "id": "j-nYDbniBTrn",
        "outputId": "62e41072-9e3d-4ba1-a281-9cd55471463f"
      },
      "execution_count": 31,
      "outputs": [
        {
          "output_type": "execute_result",
          "data": {
            "text/plain": [
              "7.714285714285714"
            ]
          },
          "metadata": {},
          "execution_count": 31
        }
      ]
    },
    {
      "cell_type": "code",
      "source": [
        "df['Beltrano'].mean()"
      ],
      "metadata": {
        "colab": {
          "base_uri": "https://localhost:8080/"
        },
        "id": "5US2KL-2BS-l",
        "outputId": "043703b6-5d81-4388-aad1-395881b22a7d"
      },
      "execution_count": 32,
      "outputs": [
        {
          "output_type": "execute_result",
          "data": {
            "text/plain": [
              "5.142857142857143"
            ]
          },
          "metadata": {},
          "execution_count": 32
        }
      ]
    },
    {
      "cell_type": "code",
      "source": [
        "dados.Renda.mean()"
      ],
      "metadata": {
        "colab": {
          "base_uri": "https://localhost:8080/"
        },
        "id": "MNMBhRwzBcZm",
        "outputId": "9eaeb96a-ccde-45e3-9dbd-efd42a7c02f9"
      },
      "execution_count": 33,
      "outputs": [
        {
          "output_type": "execute_result",
          "data": {
            "text/plain": [
              "2153.6558513963273"
            ]
          },
          "metadata": {},
          "execution_count": 33
        }
      ]
    },
    {
      "cell_type": "markdown",
      "source": [
        "Abaixo poderiamos calcular a partir de uma medida especifica todas as outras variáveis:"
      ],
      "metadata": {
        "id": "J-1jOntDB7Ki"
      }
    },
    {
      "cell_type": "code",
      "source": [
        "dados.groupby(['Sexo']).mean()"
      ],
      "metadata": {
        "colab": {
          "base_uri": "https://localhost:8080/",
          "height": 143
        },
        "id": "RcDNQ1fUBtR9",
        "outputId": "6271b1a4-57f6-4685-f565-193887179919"
      },
      "execution_count": 34,
      "outputs": [
        {
          "output_type": "execute_result",
          "data": {
            "text/html": [
              "\n",
              "  <div id=\"df-e7eee44a-4aa8-4f3a-9d4a-18f9c665aa22\">\n",
              "    <div class=\"colab-df-container\">\n",
              "      <div>\n",
              "<style scoped>\n",
              "    .dataframe tbody tr th:only-of-type {\n",
              "        vertical-align: middle;\n",
              "    }\n",
              "\n",
              "    .dataframe tbody tr th {\n",
              "        vertical-align: top;\n",
              "    }\n",
              "\n",
              "    .dataframe thead th {\n",
              "        text-align: right;\n",
              "    }\n",
              "</style>\n",
              "<table border=\"1\" class=\"dataframe\">\n",
              "  <thead>\n",
              "    <tr style=\"text-align: right;\">\n",
              "      <th></th>\n",
              "      <th>UF</th>\n",
              "      <th>Idade</th>\n",
              "      <th>Cor</th>\n",
              "      <th>Anos de Estudo</th>\n",
              "      <th>Renda</th>\n",
              "      <th>Altura</th>\n",
              "    </tr>\n",
              "    <tr>\n",
              "      <th>Sexo</th>\n",
              "      <th></th>\n",
              "      <th></th>\n",
              "      <th></th>\n",
              "      <th></th>\n",
              "      <th></th>\n",
              "      <th></th>\n",
              "    </tr>\n",
              "  </thead>\n",
              "  <tbody>\n",
              "    <tr>\n",
              "      <th>0.0</th>\n",
              "      <td>34.744910</td>\n",
              "      <td>44.162096</td>\n",
              "      <td>4.766646</td>\n",
              "      <td>9.378184</td>\n",
              "      <td>2365.496493</td>\n",
              "      <td>1.699420</td>\n",
              "    </tr>\n",
              "    <tr>\n",
              "      <th>1.0</th>\n",
              "      <td>34.735424</td>\n",
              "      <td>44.186717</td>\n",
              "      <td>4.739809</td>\n",
              "      <td>10.412157</td>\n",
              "      <td>1673.838960</td>\n",
              "      <td>1.699686</td>\n",
              "    </tr>\n",
              "  </tbody>\n",
              "</table>\n",
              "</div>\n",
              "      <button class=\"colab-df-convert\" onclick=\"convertToInteractive('df-e7eee44a-4aa8-4f3a-9d4a-18f9c665aa22')\"\n",
              "              title=\"Convert this dataframe to an interactive table.\"\n",
              "              style=\"display:none;\">\n",
              "        \n",
              "  <svg xmlns=\"http://www.w3.org/2000/svg\" height=\"24px\"viewBox=\"0 0 24 24\"\n",
              "       width=\"24px\">\n",
              "    <path d=\"M0 0h24v24H0V0z\" fill=\"none\"/>\n",
              "    <path d=\"M18.56 5.44l.94 2.06.94-2.06 2.06-.94-2.06-.94-.94-2.06-.94 2.06-2.06.94zm-11 1L8.5 8.5l.94-2.06 2.06-.94-2.06-.94L8.5 2.5l-.94 2.06-2.06.94zm10 10l.94 2.06.94-2.06 2.06-.94-2.06-.94-.94-2.06-.94 2.06-2.06.94z\"/><path d=\"M17.41 7.96l-1.37-1.37c-.4-.4-.92-.59-1.43-.59-.52 0-1.04.2-1.43.59L10.3 9.45l-7.72 7.72c-.78.78-.78 2.05 0 2.83L4 21.41c.39.39.9.59 1.41.59.51 0 1.02-.2 1.41-.59l7.78-7.78 2.81-2.81c.8-.78.8-2.07 0-2.86zM5.41 20L4 18.59l7.72-7.72 1.47 1.35L5.41 20z\"/>\n",
              "  </svg>\n",
              "      </button>\n",
              "      \n",
              "  <style>\n",
              "    .colab-df-container {\n",
              "      display:flex;\n",
              "      flex-wrap:wrap;\n",
              "      gap: 12px;\n",
              "    }\n",
              "\n",
              "    .colab-df-convert {\n",
              "      background-color: #E8F0FE;\n",
              "      border: none;\n",
              "      border-radius: 50%;\n",
              "      cursor: pointer;\n",
              "      display: none;\n",
              "      fill: #1967D2;\n",
              "      height: 32px;\n",
              "      padding: 0 0 0 0;\n",
              "      width: 32px;\n",
              "    }\n",
              "\n",
              "    .colab-df-convert:hover {\n",
              "      background-color: #E2EBFA;\n",
              "      box-shadow: 0px 1px 2px rgba(60, 64, 67, 0.3), 0px 1px 3px 1px rgba(60, 64, 67, 0.15);\n",
              "      fill: #174EA6;\n",
              "    }\n",
              "\n",
              "    [theme=dark] .colab-df-convert {\n",
              "      background-color: #3B4455;\n",
              "      fill: #D2E3FC;\n",
              "    }\n",
              "\n",
              "    [theme=dark] .colab-df-convert:hover {\n",
              "      background-color: #434B5C;\n",
              "      box-shadow: 0px 1px 3px 1px rgba(0, 0, 0, 0.15);\n",
              "      filter: drop-shadow(0px 1px 2px rgba(0, 0, 0, 0.3));\n",
              "      fill: #FFFFFF;\n",
              "    }\n",
              "  </style>\n",
              "\n",
              "      <script>\n",
              "        const buttonEl =\n",
              "          document.querySelector('#df-e7eee44a-4aa8-4f3a-9d4a-18f9c665aa22 button.colab-df-convert');\n",
              "        buttonEl.style.display =\n",
              "          google.colab.kernel.accessAllowed ? 'block' : 'none';\n",
              "\n",
              "        async function convertToInteractive(key) {\n",
              "          const element = document.querySelector('#df-e7eee44a-4aa8-4f3a-9d4a-18f9c665aa22');\n",
              "          const dataTable =\n",
              "            await google.colab.kernel.invokeFunction('convertToInteractive',\n",
              "                                                     [key], {});\n",
              "          if (!dataTable) return;\n",
              "\n",
              "          const docLinkHtml = 'Like what you see? Visit the ' +\n",
              "            '<a target=\"_blank\" href=https://colab.research.google.com/notebooks/data_table.ipynb>data table notebook</a>'\n",
              "            + ' to learn more about interactive tables.';\n",
              "          element.innerHTML = '';\n",
              "          dataTable['output_type'] = 'display_data';\n",
              "          await google.colab.output.renderOutput(dataTable, element);\n",
              "          const docLink = document.createElement('div');\n",
              "          docLink.innerHTML = docLinkHtml;\n",
              "          element.appendChild(docLink);\n",
              "        }\n",
              "      </script>\n",
              "    </div>\n",
              "  </div>\n",
              "  "
            ],
            "text/plain": [
              "             UF      Idade       Cor  Anos de Estudo        Renda    Altura\n",
              "Sexo                                                                       \n",
              "0.0   34.744910  44.162096  4.766646        9.378184  2365.496493  1.699420\n",
              "1.0   34.735424  44.186717  4.739809       10.412157  1673.838960  1.699686"
            ]
          },
          "metadata": {},
          "execution_count": 34
        }
      ]
    },
    {
      "cell_type": "markdown",
      "source": [
        "Porém, também podemos medir a partir de uma variável apenas:"
      ],
      "metadata": {
        "id": "y4FywX7dB_AY"
      }
    },
    {
      "cell_type": "code",
      "source": [
        "dados.groupby(['Sexo'])['Renda'].mean()"
      ],
      "metadata": {
        "colab": {
          "base_uri": "https://localhost:8080/"
        },
        "id": "OAFTHSuTCCzE",
        "outputId": "436d79b4-d344-4270-fa97-5843a39c856a"
      },
      "execution_count": 35,
      "outputs": [
        {
          "output_type": "execute_result",
          "data": {
            "text/plain": [
              "Sexo\n",
              "0.0    2365.496493\n",
              "1.0    1673.838960\n",
              "Name: Renda, dtype: float64"
            ]
          },
          "metadata": {},
          "execution_count": 35
        }
      ]
    },
    {
      "cell_type": "markdown",
      "source": [
        "Mediana:"
      ],
      "metadata": {
        "id": "ZdQUe-TpCy3A"
      }
    },
    {
      "cell_type": "code",
      "source": [
        "notas_fulano = df.Fulano\n",
        "notas_fulano"
      ],
      "metadata": {
        "colab": {
          "base_uri": "https://localhost:8080/"
        },
        "id": "elESg8FGC2yg",
        "outputId": "7abad3e0-6a01-4571-88d0-c53c0212e130"
      },
      "execution_count": 36,
      "outputs": [
        {
          "output_type": "execute_result",
          "data": {
            "text/plain": [
              "Matemática     8\n",
              "Português     10\n",
              "Inglês         4\n",
              "Geografia      8\n",
              "História       6\n",
              "Física        10\n",
              "Química        8\n",
              "Name: Fulano, dtype: int64"
            ]
          },
          "metadata": {},
          "execution_count": 36
        }
      ]
    },
    {
      "cell_type": "markdown",
      "source": [
        "odernando:"
      ],
      "metadata": {
        "id": "TxYWakF0DMf8"
      }
    },
    {
      "cell_type": "code",
      "source": [
        "notas_fulano = notas_fulano.sort_values()\n",
        "notas_fulano"
      ],
      "metadata": {
        "colab": {
          "base_uri": "https://localhost:8080/"
        },
        "id": "B5CGNZD2DNcL",
        "outputId": "0212d5f9-5d35-4db6-8c4e-5138912eeb3e"
      },
      "execution_count": 37,
      "outputs": [
        {
          "output_type": "execute_result",
          "data": {
            "text/plain": [
              "Inglês         4\n",
              "História       6\n",
              "Matemática     8\n",
              "Geografia      8\n",
              "Química        8\n",
              "Português     10\n",
              "Física        10\n",
              "Name: Fulano, dtype: int64"
            ]
          },
          "metadata": {},
          "execution_count": 37
        }
      ]
    },
    {
      "cell_type": "code",
      "source": [
        "notas_fulano = notas_fulano.reset_index()\n",
        "notas_fulano"
      ],
      "metadata": {
        "colab": {
          "base_uri": "https://localhost:8080/",
          "height": 268
        },
        "id": "HTfhKt62DOm0",
        "outputId": "4a75ef3a-06cf-4371-85b2-b54adb7924de"
      },
      "execution_count": 38,
      "outputs": [
        {
          "output_type": "execute_result",
          "data": {
            "text/html": [
              "\n",
              "  <div id=\"df-3bb4aeff-d82b-44b5-903d-92519f588024\">\n",
              "    <div class=\"colab-df-container\">\n",
              "      <div>\n",
              "<style scoped>\n",
              "    .dataframe tbody tr th:only-of-type {\n",
              "        vertical-align: middle;\n",
              "    }\n",
              "\n",
              "    .dataframe tbody tr th {\n",
              "        vertical-align: top;\n",
              "    }\n",
              "\n",
              "    .dataframe thead th {\n",
              "        text-align: right;\n",
              "    }\n",
              "</style>\n",
              "<table border=\"1\" class=\"dataframe\">\n",
              "  <thead>\n",
              "    <tr style=\"text-align: right;\">\n",
              "      <th></th>\n",
              "      <th>index</th>\n",
              "      <th>Fulano</th>\n",
              "    </tr>\n",
              "  </thead>\n",
              "  <tbody>\n",
              "    <tr>\n",
              "      <th>0</th>\n",
              "      <td>Inglês</td>\n",
              "      <td>4</td>\n",
              "    </tr>\n",
              "    <tr>\n",
              "      <th>1</th>\n",
              "      <td>História</td>\n",
              "      <td>6</td>\n",
              "    </tr>\n",
              "    <tr>\n",
              "      <th>2</th>\n",
              "      <td>Matemática</td>\n",
              "      <td>8</td>\n",
              "    </tr>\n",
              "    <tr>\n",
              "      <th>3</th>\n",
              "      <td>Geografia</td>\n",
              "      <td>8</td>\n",
              "    </tr>\n",
              "    <tr>\n",
              "      <th>4</th>\n",
              "      <td>Química</td>\n",
              "      <td>8</td>\n",
              "    </tr>\n",
              "    <tr>\n",
              "      <th>5</th>\n",
              "      <td>Português</td>\n",
              "      <td>10</td>\n",
              "    </tr>\n",
              "    <tr>\n",
              "      <th>6</th>\n",
              "      <td>Física</td>\n",
              "      <td>10</td>\n",
              "    </tr>\n",
              "  </tbody>\n",
              "</table>\n",
              "</div>\n",
              "      <button class=\"colab-df-convert\" onclick=\"convertToInteractive('df-3bb4aeff-d82b-44b5-903d-92519f588024')\"\n",
              "              title=\"Convert this dataframe to an interactive table.\"\n",
              "              style=\"display:none;\">\n",
              "        \n",
              "  <svg xmlns=\"http://www.w3.org/2000/svg\" height=\"24px\"viewBox=\"0 0 24 24\"\n",
              "       width=\"24px\">\n",
              "    <path d=\"M0 0h24v24H0V0z\" fill=\"none\"/>\n",
              "    <path d=\"M18.56 5.44l.94 2.06.94-2.06 2.06-.94-2.06-.94-.94-2.06-.94 2.06-2.06.94zm-11 1L8.5 8.5l.94-2.06 2.06-.94-2.06-.94L8.5 2.5l-.94 2.06-2.06.94zm10 10l.94 2.06.94-2.06 2.06-.94-2.06-.94-.94-2.06-.94 2.06-2.06.94z\"/><path d=\"M17.41 7.96l-1.37-1.37c-.4-.4-.92-.59-1.43-.59-.52 0-1.04.2-1.43.59L10.3 9.45l-7.72 7.72c-.78.78-.78 2.05 0 2.83L4 21.41c.39.39.9.59 1.41.59.51 0 1.02-.2 1.41-.59l7.78-7.78 2.81-2.81c.8-.78.8-2.07 0-2.86zM5.41 20L4 18.59l7.72-7.72 1.47 1.35L5.41 20z\"/>\n",
              "  </svg>\n",
              "      </button>\n",
              "      \n",
              "  <style>\n",
              "    .colab-df-container {\n",
              "      display:flex;\n",
              "      flex-wrap:wrap;\n",
              "      gap: 12px;\n",
              "    }\n",
              "\n",
              "    .colab-df-convert {\n",
              "      background-color: #E8F0FE;\n",
              "      border: none;\n",
              "      border-radius: 50%;\n",
              "      cursor: pointer;\n",
              "      display: none;\n",
              "      fill: #1967D2;\n",
              "      height: 32px;\n",
              "      padding: 0 0 0 0;\n",
              "      width: 32px;\n",
              "    }\n",
              "\n",
              "    .colab-df-convert:hover {\n",
              "      background-color: #E2EBFA;\n",
              "      box-shadow: 0px 1px 2px rgba(60, 64, 67, 0.3), 0px 1px 3px 1px rgba(60, 64, 67, 0.15);\n",
              "      fill: #174EA6;\n",
              "    }\n",
              "\n",
              "    [theme=dark] .colab-df-convert {\n",
              "      background-color: #3B4455;\n",
              "      fill: #D2E3FC;\n",
              "    }\n",
              "\n",
              "    [theme=dark] .colab-df-convert:hover {\n",
              "      background-color: #434B5C;\n",
              "      box-shadow: 0px 1px 3px 1px rgba(0, 0, 0, 0.15);\n",
              "      filter: drop-shadow(0px 1px 2px rgba(0, 0, 0, 0.3));\n",
              "      fill: #FFFFFF;\n",
              "    }\n",
              "  </style>\n",
              "\n",
              "      <script>\n",
              "        const buttonEl =\n",
              "          document.querySelector('#df-3bb4aeff-d82b-44b5-903d-92519f588024 button.colab-df-convert');\n",
              "        buttonEl.style.display =\n",
              "          google.colab.kernel.accessAllowed ? 'block' : 'none';\n",
              "\n",
              "        async function convertToInteractive(key) {\n",
              "          const element = document.querySelector('#df-3bb4aeff-d82b-44b5-903d-92519f588024');\n",
              "          const dataTable =\n",
              "            await google.colab.kernel.invokeFunction('convertToInteractive',\n",
              "                                                     [key], {});\n",
              "          if (!dataTable) return;\n",
              "\n",
              "          const docLinkHtml = 'Like what you see? Visit the ' +\n",
              "            '<a target=\"_blank\" href=https://colab.research.google.com/notebooks/data_table.ipynb>data table notebook</a>'\n",
              "            + ' to learn more about interactive tables.';\n",
              "          element.innerHTML = '';\n",
              "          dataTable['output_type'] = 'display_data';\n",
              "          await google.colab.output.renderOutput(dataTable, element);\n",
              "          const docLink = document.createElement('div');\n",
              "          docLink.innerHTML = docLinkHtml;\n",
              "          element.appendChild(docLink);\n",
              "        }\n",
              "      </script>\n",
              "    </div>\n",
              "  </div>\n",
              "  "
            ],
            "text/plain": [
              "        index  Fulano\n",
              "0      Inglês       4\n",
              "1    História       6\n",
              "2  Matemática       8\n",
              "3   Geografia       8\n",
              "4     Química       8\n",
              "5   Português      10\n",
              "6      Física      10"
            ]
          },
          "metadata": {},
          "execution_count": 38
        }
      ]
    },
    {
      "cell_type": "markdown",
      "source": [
        "a mediana no pandas é pelo método median():"
      ],
      "metadata": {
        "id": "Zd5gp2zLDdyU"
      }
    },
    {
      "cell_type": "code",
      "source": [
        "notas_fulano.median()"
      ],
      "metadata": {
        "colab": {
          "base_uri": "https://localhost:8080/"
        },
        "id": "ugj7mt3cDgw1",
        "outputId": "b6447916-d81b-4a26-ba8d-7a446786203c"
      },
      "execution_count": 39,
      "outputs": [
        {
          "output_type": "execute_result",
          "data": {
            "text/plain": [
              "Fulano    8.0\n",
              "dtype: float64"
            ]
          },
          "metadata": {},
          "execution_count": 39
        }
      ]
    },
    {
      "cell_type": "code",
      "source": [
        "notas_beltrano = df.Beltrano\n",
        "notas_beltrano = notas_beltrano.reset_index()\n",
        "notas_beltrano.median()"
      ],
      "metadata": {
        "colab": {
          "base_uri": "https://localhost:8080/"
        },
        "id": "c0_hB00DDneS",
        "outputId": "c8c7c2ce-775d-43a4-b58b-877761c1ed32"
      },
      "execution_count": 40,
      "outputs": [
        {
          "output_type": "execute_result",
          "data": {
            "text/plain": [
              "Beltrano    3.0\n",
              "dtype: float64"
            ]
          },
          "metadata": {},
          "execution_count": 40
        }
      ]
    },
    {
      "cell_type": "markdown",
      "source": [
        "Para pegar a mediana total:"
      ],
      "metadata": {
        "id": "7nS3mBQuEPHi"
      }
    },
    {
      "cell_type": "code",
      "source": [
        "dados.median()"
      ],
      "metadata": {
        "colab": {
          "base_uri": "https://localhost:8080/"
        },
        "id": "pwOHaah9EQbs",
        "outputId": "6f1ea949-7074-4416-b8c8-7c408cf9a3e0"
      },
      "execution_count": 41,
      "outputs": [
        {
          "output_type": "execute_result",
          "data": {
            "text/plain": [
              "UF                  35.000000\n",
              "Sexo                 0.000000\n",
              "Idade               44.000000\n",
              "Cor                  4.000000\n",
              "Anos de Estudo      11.000000\n",
              "Renda             1300.000000\n",
              "Altura               1.699255\n",
              "dtype: float64"
            ]
          },
          "metadata": {},
          "execution_count": 41
        }
      ]
    },
    {
      "cell_type": "markdown",
      "source": [
        "Moda:"
      ],
      "metadata": {
        "id": "FRPBNFWuFcUV"
      }
    },
    {
      "cell_type": "code",
      "source": [
        "df.mode()"
      ],
      "metadata": {
        "colab": {
          "base_uri": "https://localhost:8080/",
          "height": 81
        },
        "id": "8TZIbJIWFc89",
        "outputId": "84822f26-abba-4edd-834e-11f292824ca9"
      },
      "execution_count": 42,
      "outputs": [
        {
          "output_type": "execute_result",
          "data": {
            "text/html": [
              "\n",
              "  <div id=\"df-0aa7d048-b1d7-4e55-b8e1-30b1db461bbc\">\n",
              "    <div class=\"colab-df-container\">\n",
              "      <div>\n",
              "<style scoped>\n",
              "    .dataframe tbody tr th:only-of-type {\n",
              "        vertical-align: middle;\n",
              "    }\n",
              "\n",
              "    .dataframe tbody tr th {\n",
              "        vertical-align: top;\n",
              "    }\n",
              "\n",
              "    .dataframe thead th {\n",
              "        text-align: right;\n",
              "    }\n",
              "</style>\n",
              "<table border=\"1\" class=\"dataframe\">\n",
              "  <thead>\n",
              "    <tr style=\"text-align: right;\">\n",
              "      <th>Matérias</th>\n",
              "      <th>Fulano</th>\n",
              "      <th>Beltrano</th>\n",
              "      <th>Sicrano</th>\n",
              "    </tr>\n",
              "  </thead>\n",
              "  <tbody>\n",
              "    <tr>\n",
              "      <th>0</th>\n",
              "      <td>8</td>\n",
              "      <td>10.0</td>\n",
              "      <td>8.0</td>\n",
              "    </tr>\n",
              "  </tbody>\n",
              "</table>\n",
              "</div>\n",
              "      <button class=\"colab-df-convert\" onclick=\"convertToInteractive('df-0aa7d048-b1d7-4e55-b8e1-30b1db461bbc')\"\n",
              "              title=\"Convert this dataframe to an interactive table.\"\n",
              "              style=\"display:none;\">\n",
              "        \n",
              "  <svg xmlns=\"http://www.w3.org/2000/svg\" height=\"24px\"viewBox=\"0 0 24 24\"\n",
              "       width=\"24px\">\n",
              "    <path d=\"M0 0h24v24H0V0z\" fill=\"none\"/>\n",
              "    <path d=\"M18.56 5.44l.94 2.06.94-2.06 2.06-.94-2.06-.94-.94-2.06-.94 2.06-2.06.94zm-11 1L8.5 8.5l.94-2.06 2.06-.94-2.06-.94L8.5 2.5l-.94 2.06-2.06.94zm10 10l.94 2.06.94-2.06 2.06-.94-2.06-.94-.94-2.06-.94 2.06-2.06.94z\"/><path d=\"M17.41 7.96l-1.37-1.37c-.4-.4-.92-.59-1.43-.59-.52 0-1.04.2-1.43.59L10.3 9.45l-7.72 7.72c-.78.78-.78 2.05 0 2.83L4 21.41c.39.39.9.59 1.41.59.51 0 1.02-.2 1.41-.59l7.78-7.78 2.81-2.81c.8-.78.8-2.07 0-2.86zM5.41 20L4 18.59l7.72-7.72 1.47 1.35L5.41 20z\"/>\n",
              "  </svg>\n",
              "      </button>\n",
              "      \n",
              "  <style>\n",
              "    .colab-df-container {\n",
              "      display:flex;\n",
              "      flex-wrap:wrap;\n",
              "      gap: 12px;\n",
              "    }\n",
              "\n",
              "    .colab-df-convert {\n",
              "      background-color: #E8F0FE;\n",
              "      border: none;\n",
              "      border-radius: 50%;\n",
              "      cursor: pointer;\n",
              "      display: none;\n",
              "      fill: #1967D2;\n",
              "      height: 32px;\n",
              "      padding: 0 0 0 0;\n",
              "      width: 32px;\n",
              "    }\n",
              "\n",
              "    .colab-df-convert:hover {\n",
              "      background-color: #E2EBFA;\n",
              "      box-shadow: 0px 1px 2px rgba(60, 64, 67, 0.3), 0px 1px 3px 1px rgba(60, 64, 67, 0.15);\n",
              "      fill: #174EA6;\n",
              "    }\n",
              "\n",
              "    [theme=dark] .colab-df-convert {\n",
              "      background-color: #3B4455;\n",
              "      fill: #D2E3FC;\n",
              "    }\n",
              "\n",
              "    [theme=dark] .colab-df-convert:hover {\n",
              "      background-color: #434B5C;\n",
              "      box-shadow: 0px 1px 3px 1px rgba(0, 0, 0, 0.15);\n",
              "      filter: drop-shadow(0px 1px 2px rgba(0, 0, 0, 0.3));\n",
              "      fill: #FFFFFF;\n",
              "    }\n",
              "  </style>\n",
              "\n",
              "      <script>\n",
              "        const buttonEl =\n",
              "          document.querySelector('#df-0aa7d048-b1d7-4e55-b8e1-30b1db461bbc button.colab-df-convert');\n",
              "        buttonEl.style.display =\n",
              "          google.colab.kernel.accessAllowed ? 'block' : 'none';\n",
              "\n",
              "        async function convertToInteractive(key) {\n",
              "          const element = document.querySelector('#df-0aa7d048-b1d7-4e55-b8e1-30b1db461bbc');\n",
              "          const dataTable =\n",
              "            await google.colab.kernel.invokeFunction('convertToInteractive',\n",
              "                                                     [key], {});\n",
              "          if (!dataTable) return;\n",
              "\n",
              "          const docLinkHtml = 'Like what you see? Visit the ' +\n",
              "            '<a target=\"_blank\" href=https://colab.research.google.com/notebooks/data_table.ipynb>data table notebook</a>'\n",
              "            + ' to learn more about interactive tables.';\n",
              "          element.innerHTML = '';\n",
              "          dataTable['output_type'] = 'display_data';\n",
              "          await google.colab.output.renderOutput(dataTable, element);\n",
              "          const docLink = document.createElement('div');\n",
              "          docLink.innerHTML = docLinkHtml;\n",
              "          element.appendChild(docLink);\n",
              "        }\n",
              "      </script>\n",
              "    </div>\n",
              "  </div>\n",
              "  "
            ],
            "text/plain": [
              "Matérias  Fulano  Beltrano  Sicrano\n",
              "0              8      10.0      8.0"
            ]
          },
          "metadata": {},
          "execution_count": 42
        }
      ]
    },
    {
      "cell_type": "code",
      "source": [
        "exemplo = pd.Series([1, 2, 2, 3, 4, 4, 5, 6, 6])\n",
        "exemplo.mode()"
      ],
      "metadata": {
        "colab": {
          "base_uri": "https://localhost:8080/"
        },
        "id": "KJLyceJCFmoP",
        "outputId": "9cafca7a-3590-478f-ccd8-9ad340440195"
      },
      "execution_count": 43,
      "outputs": [
        {
          "output_type": "execute_result",
          "data": {
            "text/plain": [
              "0    2\n",
              "1    4\n",
              "2    6\n",
              "dtype: int64"
            ]
          },
          "metadata": {},
          "execution_count": 43
        }
      ]
    },
    {
      "cell_type": "markdown",
      "source": [
        "Relações entre as medidas de tendencia central:\n",
        "![image.png](data:image/png;base64,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)"
      ],
      "metadata": {
        "id": "yymTX7G3Gj5p"
      }
    },
    {
      "cell_type": "code",
      "source": [
        "ax = sns.distplot(dados.Renda)\n",
        "ax.figure.set_size_inches(12, 6)\n",
        "ax"
      ],
      "metadata": {
        "colab": {
          "base_uri": "https://localhost:8080/",
          "height": 460
        },
        "id": "DVbK_ll8GoCY",
        "outputId": "a7b39e54-7f38-4dd9-81f7-53c1f458494c"
      },
      "execution_count": 44,
      "outputs": [
        {
          "output_type": "stream",
          "name": "stderr",
          "text": [
            "/usr/local/lib/python3.7/dist-packages/seaborn/distributions.py:2619: FutureWarning: `distplot` is a deprecated function and will be removed in a future version. Please adapt your code to use either `displot` (a figure-level function with similar flexibility) or `histplot` (an axes-level function for histograms).\n",
            "  warnings.warn(msg, FutureWarning)\n"
          ]
        },
        {
          "output_type": "execute_result",
          "data": {
            "text/plain": [
              "<matplotlib.axes._subplots.AxesSubplot at 0x7fac0faaa710>"
            ]
          },
          "metadata": {},
          "execution_count": 44
        },
        {
          "output_type": "display_data",
          "data": {
            "image/png": "[encoded data removed]",
            "text/plain": [
              "<Figure size 864x432 with 1 Axes>"
            ]
          },
          "metadata": {
            "needs_background": "light"
          }
        }
      ]
    },
    {
      "cell_type": "markdown",
      "source": [
        "observando de uma forma melhor a Renda do primeiro dataset:"
      ],
      "metadata": {
        "id": "c-rLTbNZGugn"
      }
    },
    {
      "cell_type": "code",
      "source": [
        "ax = sns.distplot(dados.query('Renda < 20000').Renda)\n",
        "ax.figure.set_size_inches(12, 6)\n",
        "ax"
      ],
      "metadata": {
        "colab": {
          "base_uri": "https://localhost:8080/",
          "height": 460
        },
        "id": "MKHsgyY9GxVp",
        "outputId": "53781d0f-8bca-4a1c-d718-777b518ac00c"
      },
      "execution_count": 45,
      "outputs": [
        {
          "output_type": "stream",
          "name": "stderr",
          "text": [
            "/usr/local/lib/python3.7/dist-packages/seaborn/distributions.py:2619: FutureWarning: `distplot` is a deprecated function and will be removed in a future version. Please adapt your code to use either `displot` (a figure-level function with similar flexibility) or `histplot` (an axes-level function for histograms).\n",
            "  warnings.warn(msg, FutureWarning)\n"
          ]
        },
        {
          "output_type": "execute_result",
          "data": {
            "text/plain": [
              "<matplotlib.axes._subplots.AxesSubplot at 0x7fac0f9a7710>"
            ]
          },
          "metadata": {},
          "execution_count": 45
        },
        {
          "output_type": "display_data",
          "data": {
            "image/png": "[encoded data removed]",
            "text/plain": [
              "<Figure size 864x432 with 1 Axes>"
            ]
          },
          "metadata": {
            "needs_background": "light"
          }
        }
      ]
    },
    {
      "cell_type": "markdown",
      "source": [
        "Observe que se calcularmos a media, a mediana e a moda teremos uma correspondencia decrescente: moda < mediana < media"
      ],
      "metadata": {
        "id": "77Bkm5wFG47h"
      }
    },
    {
      "cell_type": "code",
      "source": [
        "ax = sns.distplot(dados.Altura)\n",
        "ax.figure.set_size_inches(12, 6)\n",
        "ax"
      ],
      "metadata": {
        "colab": {
          "base_uri": "https://localhost:8080/",
          "height": 460
        },
        "id": "C72byrDTG3hA",
        "outputId": "a00d3d8f-2898-4ca8-e2c9-5e6c55406b03"
      },
      "execution_count": 46,
      "outputs": [
        {
          "output_type": "stream",
          "name": "stderr",
          "text": [
            "/usr/local/lib/python3.7/dist-packages/seaborn/distributions.py:2619: FutureWarning: `distplot` is a deprecated function and will be removed in a future version. Please adapt your code to use either `displot` (a figure-level function with similar flexibility) or `histplot` (an axes-level function for histograms).\n",
            "  warnings.warn(msg, FutureWarning)\n"
          ]
        },
        {
          "output_type": "execute_result",
          "data": {
            "text/plain": [
              "<matplotlib.axes._subplots.AxesSubplot at 0x7fac0f9025d0>"
            ]
          },
          "metadata": {},
          "execution_count": 46
        },
        {
          "output_type": "display_data",
          "data": {
            "image/png": "[encoded data removed]",
            "text/plain": [
              "<Figure size 864x432 with 1 Axes>"
            ]
          },
          "metadata": {
            "needs_background": "light"
          }
        }
      ]
    },
    {
      "cell_type": "markdown",
      "source": [
        "Note bem os valores da media, mediana e moda:"
      ],
      "metadata": {
        "id": "E2Lp1hedHJwM"
      }
    },
    {
      "cell_type": "code",
      "source": [
        "Moda = dados.Altura.mode()\n",
        "Moda"
      ],
      "metadata": {
        "colab": {
          "base_uri": "https://localhost:8080/"
        },
        "id": "aOH3BhI5HMsG",
        "outputId": "03d00c2a-f120-4956-b42e-6e581452a8d2"
      },
      "execution_count": 47,
      "outputs": [
        {
          "output_type": "execute_result",
          "data": {
            "text/plain": [
              "0    1.708163\n",
              "1    1.708370\n",
              "2    1.753842\n",
              "dtype: float64"
            ]
          },
          "metadata": {},
          "execution_count": 47
        }
      ]
    },
    {
      "cell_type": "code",
      "source": [
        "Mediana = dados.Altura.median()\n",
        "Mediana"
      ],
      "metadata": {
        "colab": {
          "base_uri": "https://localhost:8080/"
        },
        "id": "TCHjYxWwHO1F",
        "outputId": "a5722fe5-b70f-492b-f3c9-219f3728500f"
      },
      "execution_count": 48,
      "outputs": [
        {
          "output_type": "execute_result",
          "data": {
            "text/plain": [
              "1.6992554100000001"
            ]
          },
          "metadata": {},
          "execution_count": 48
        }
      ]
    },
    {
      "cell_type": "code",
      "source": [
        "Media = dados.Altura.mean()\n",
        "Media"
      ],
      "metadata": {
        "colab": {
          "base_uri": "https://localhost:8080/"
        },
        "id": "srgDYl8oHP4s",
        "outputId": "645069e4-d1c3-4c22-c0b9-453a7ab6eaaf"
      },
      "execution_count": 49,
      "outputs": [
        {
          "output_type": "execute_result",
          "data": {
            "text/plain": [
              "1.6995012310461965"
            ]
          },
          "metadata": {},
          "execution_count": 49
        }
      ]
    },
    {
      "cell_type": "code",
      "source": [
        "ax = sns.distplot(dados['Anos de Estudo'], bins = 17)\n",
        "ax.figure.set_size_inches(12, 6)\n",
        "ax"
      ],
      "metadata": {
        "colab": {
          "base_uri": "https://localhost:8080/",
          "height": 460
        },
        "id": "eLxLvFtQHXx-",
        "outputId": "b71c1d88-e97e-4c6a-d07c-de7c971f484b"
      },
      "execution_count": 50,
      "outputs": [
        {
          "output_type": "stream",
          "name": "stderr",
          "text": [
            "/usr/local/lib/python3.7/dist-packages/seaborn/distributions.py:2619: FutureWarning: `distplot` is a deprecated function and will be removed in a future version. Please adapt your code to use either `displot` (a figure-level function with similar flexibility) or `histplot` (an axes-level function for histograms).\n",
            "  warnings.warn(msg, FutureWarning)\n"
          ]
        },
        {
          "output_type": "execute_result",
          "data": {
            "text/plain": [
              "<matplotlib.axes._subplots.AxesSubplot at 0x7fac0f7ac450>"
            ]
          },
          "metadata": {},
          "execution_count": 50
        },
        {
          "output_type": "display_data",
          "data": {
            "image/png": "[encoded data removed]",
            "text/plain": [
              "<Figure size 864x432 with 1 Axes>"
            ]
          },
          "metadata": {
            "needs_background": "light"
          }
        }
      ]
    },
    {
      "cell_type": "markdown",
      "source": [
        "Se considerarmos somente os picos, encontraremos um comportamento bastante parecido com o padrão de Assimetria à Esquerda, pois os maiores picos aparecem conforme os valores do eixo \"x\" sobem."
      ],
      "metadata": {
        "id": "JfEGC0o0HcmI"
      }
    },
    {
      "cell_type": "code",
      "source": [
        "Moda = dados['Anos de Estudo'].mode()\n",
        "Moda"
      ],
      "metadata": {
        "colab": {
          "base_uri": "https://localhost:8080/"
        },
        "id": "mU8_1GRRHdHg",
        "outputId": "59e869c5-11dd-46c6-d9cc-e2c03756cc26"
      },
      "execution_count": 51,
      "outputs": [
        {
          "output_type": "execute_result",
          "data": {
            "text/plain": [
              "0    12.0\n",
              "dtype: float64"
            ]
          },
          "metadata": {},
          "execution_count": 51
        }
      ]
    },
    {
      "cell_type": "code",
      "source": [
        "Mediana = dados['Anos de Estudo'].median()\n",
        "Mediana"
      ],
      "metadata": {
        "colab": {
          "base_uri": "https://localhost:8080/"
        },
        "id": "VnF0FkBuHfJq",
        "outputId": "31a322e2-c37c-4a4d-9ffe-14ec33b89f99"
      },
      "execution_count": 52,
      "outputs": [
        {
          "output_type": "execute_result",
          "data": {
            "text/plain": [
              "11.0"
            ]
          },
          "metadata": {},
          "execution_count": 52
        }
      ]
    },
    {
      "cell_type": "code",
      "source": [
        "Media = dados['Anos de Estudo'].mean()\n",
        "Media"
      ],
      "metadata": {
        "colab": {
          "base_uri": "https://localhost:8080/"
        },
        "id": "xiGGxpKzHgPm",
        "outputId": "274d1d39-5691-40c7-90d5-e11ef70284f8"
      },
      "execution_count": 53,
      "outputs": [
        {
          "output_type": "execute_result",
          "data": {
            "text/plain": [
              "9.694869152404927"
            ]
          },
          "metadata": {},
          "execution_count": 53
        }
      ]
    },
    {
      "cell_type": "markdown",
      "source": [
        "Portanto, note que se dá como assemetria a esquerda: media > mediana > moda"
      ],
      "metadata": {
        "id": "IeAOqMJVHk_I"
      }
    },
    {
      "cell_type": "markdown",
      "source": [
        "## Medidas separatrizes:"
      ],
      "metadata": {
        "id": "sCiVQN9UJxvo"
      }
    },
    {
      "cell_type": "markdown",
      "source": [
        "Quartis: divide a variável em quatro partes iguais quanto ao número de elementos de cada uma;\n",
        "\n",
        "Decis: divide em dez partes iguais;\n",
        "\n",
        "Percentis: divide em cem partes iguais."
      ],
      "metadata": {
        "id": "WM5nweQLJ_4m"
      }
    },
    {
      "cell_type": "code",
      "source": [
        "dados.Renda.quantile()"
      ],
      "metadata": {
        "colab": {
          "base_uri": "https://localhost:8080/"
        },
        "id": "qWVI6VbQKAZz",
        "outputId": "35aeb55e-76fa-4af6-ac32-cf60dff205ed"
      },
      "execution_count": 54,
      "outputs": [
        {
          "output_type": "execute_result",
          "data": {
            "text/plain": [
              "1300.0"
            ]
          },
          "metadata": {},
          "execution_count": 54
        }
      ]
    },
    {
      "cell_type": "markdown",
      "source": [
        "Para os quartis:"
      ],
      "metadata": {
        "id": "99r7w0mNKk-X"
      }
    },
    {
      "cell_type": "code",
      "source": [
        "dados.Renda.quantile([0.25, 0.5, 0.75])"
      ],
      "metadata": {
        "colab": {
          "base_uri": "https://localhost:8080/"
        },
        "id": "vwGD-aF3KbU5",
        "outputId": "e4480b56-ab76-4331-89f3-06f18845b86a"
      },
      "execution_count": 55,
      "outputs": [
        {
          "output_type": "execute_result",
          "data": {
            "text/plain": [
              "0.25     800.0\n",
              "0.50    1300.0\n",
              "0.75    2200.0\n",
              "Name: Renda, dtype: float64"
            ]
          },
          "metadata": {},
          "execution_count": 55
        }
      ]
    },
    {
      "cell_type": "markdown",
      "source": [
        "Para os decis:\n"
      ],
      "metadata": {
        "id": "p5xdZJ9dKogl"
      }
    },
    {
      "cell_type": "code",
      "source": [
        "dados.Renda.quantile([i / 10 for i in range(1, 10)])"
      ],
      "metadata": {
        "colab": {
          "base_uri": "https://localhost:8080/"
        },
        "id": "GeEvUMv7KphI",
        "outputId": "1d9891fd-11a9-4788-8f3a-86546cd1d3e3"
      },
      "execution_count": 56,
      "outputs": [
        {
          "output_type": "execute_result",
          "data": {
            "text/plain": [
              "0.1     400.0\n",
              "0.2     788.0\n",
              "0.3     900.0\n",
              "0.4    1094.0\n",
              "0.5    1300.0\n",
              "0.6    1500.0\n",
              "0.7    2000.0\n",
              "0.8    2600.0\n",
              "0.9    4200.0\n",
              "Name: Renda, dtype: float64"
            ]
          },
          "metadata": {},
          "execution_count": 56
        }
      ]
    },
    {
      "cell_type": "markdown",
      "source": [
        "Para percentis:"
      ],
      "metadata": {
        "id": "Fda-yzU0K8zZ"
      }
    },
    {
      "cell_type": "code",
      "source": [
        "dados.Renda.quantile([i / 100 for i in range(1, 99)])"
      ],
      "metadata": {
        "colab": {
          "base_uri": "https://localhost:8080/"
        },
        "id": "XaCZTFuHK9qr",
        "outputId": "258b5142-ae1b-4949-f006-848bd278a912"
      },
      "execution_count": 57,
      "outputs": [
        {
          "output_type": "execute_result",
          "data": {
            "text/plain": [
              "0.01        0.0\n",
              "0.02        0.0\n",
              "0.03        0.0\n",
              "0.04      100.0\n",
              "0.05      200.0\n",
              "         ...   \n",
              "0.94     6000.0\n",
              "0.95     7000.0\n",
              "0.96     8000.0\n",
              "0.97     9500.0\n",
              "0.98    10857.6\n",
              "Name: Renda, Length: 98, dtype: float64"
            ]
          },
          "metadata": {},
          "execution_count": 57
        }
      ]
    },
    {
      "cell_type": "markdown",
      "source": [
        "Visualizando os centis com o gráfico Dados em Idade:"
      ],
      "metadata": {
        "id": "7mSjCqe5LJPp"
      }
    },
    {
      "cell_type": "code",
      "source": [
        "#Em gráfico:\n",
        "\n",
        "ax = sns.distplot(dados.Idade,\n",
        "                  hist_kws = {'cumulative': True},\n",
        "                  kde_kws = {'cumulative': True},\n",
        "                  bins = 10)\n",
        "ax.figure.set_size_inches(14, 6)\n",
        "ax.set_title('Distribuição de Frequências Acumulada', fontsize=18)\n",
        "ax.set_ylabel('Acumulado', fontsize=14)\n",
        "ax.set_xlabel('Anos', fontsize=14)\n",
        "ax"
      ],
      "metadata": {
        "colab": {
          "base_uri": "https://localhost:8080/",
          "height": 485
        },
        "id": "euQ9_HO1LMVV",
        "outputId": "9d89997a-2785-482a-f134-fd54680c8a72"
      },
      "execution_count": 58,
      "outputs": [
        {
          "output_type": "stream",
          "name": "stderr",
          "text": [
            "/usr/local/lib/python3.7/dist-packages/seaborn/distributions.py:2619: FutureWarning: `distplot` is a deprecated function and will be removed in a future version. Please adapt your code to use either `displot` (a figure-level function with similar flexibility) or `histplot` (an axes-level function for histograms).\n",
            "  warnings.warn(msg, FutureWarning)\n"
          ]
        },
        {
          "output_type": "execute_result",
          "data": {
            "text/plain": [
              "<matplotlib.axes._subplots.AxesSubplot at 0x7fac0f757fd0>"
            ]
          },
          "metadata": {},
          "execution_count": 58
        },
        {
          "output_type": "display_data",
          "data": {
            "image/png": "[encoded data removed]",
            "text/plain": [
              "<Figure size 1008x432 with 1 Axes>"
            ]
          },
          "metadata": {
            "needs_background": "light"
          }
        }
      ]
    },
    {
      "cell_type": "markdown",
      "source": [
        "Boxplot:\n",
        "\n",
        "O box plot dá uma idéia da posição, dispersão, assimetria, caudas e dados discrepantes (outliers). A posição central é dada pela mediana e a dispersão por  IIQ . As posições relativas de  Q1 ,  Mediana  e  Q3  dão uma noção da simetria da distribuição. Os comprimentos das cauda são dados pelas linhas que vão do retângulo aos valores remotos e pelos valores atípicos.\n",
        "\n",
        "![image.png](data:image/png;base64,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)"
      ],
      "metadata": {
        "id": "4WmOGEhXLsFS"
      }
    },
    {
      "cell_type": "markdown",
      "source": [
        ""
      ],
      "metadata": {
        "id": "xWPIUVuzLvm-"
      }
    },
    {
      "cell_type": "code",
      "source": [
        "ax = sns.boxplot( x = 'Altura', data = dados, orient = 'h')\n",
        "ax.figure.set_size_inches(12, 4)\n",
        "ax.set_title('Altura', fontsize=18)\n",
        "ax.set_xlabel('Metros', fontsize=14)\n",
        "ax"
      ],
      "metadata": {
        "colab": {
          "base_uri": "https://localhost:8080/",
          "height": 320
        },
        "id": "eZt5gqPiLtZV",
        "outputId": "7d262a08-8321-405a-84b7-10a1c14c1e55"
      },
      "execution_count": 59,
      "outputs": [
        {
          "output_type": "execute_result",
          "data": {
            "text/plain": [
              "<matplotlib.axes._subplots.AxesSubplot at 0x7fac0f663f50>"
            ]
          },
          "metadata": {},
          "execution_count": 59
        },
        {
          "output_type": "display_data",
          "data": {
            "image/png": "[encoded data removed]",
            "text/plain": [
              "<Figure size 864x288 with 1 Axes>"
            ]
          },
          "metadata": {
            "needs_background": "light"
          }
        }
      ]
    },
    {
      "cell_type": "markdown",
      "source": [
        "Ainda é possível utilizar duas variáveis para comparação mais clara:"
      ],
      "metadata": {
        "id": "vZiQMyiyNEDd"
      }
    },
    {
      "cell_type": "code",
      "source": [
        "ax = sns.boxplot( x = 'Altura', y= \"Sexo\", data = dados, orient = 'h')\n",
        "ax.figure.set_size_inches(12, 4)\n",
        "ax.set_title('Altura', fontsize=18)\n",
        "ax.set_xlabel('Metros', fontsize=14)\n",
        "ax"
      ],
      "metadata": {
        "colab": {
          "base_uri": "https://localhost:8080/",
          "height": 320
        },
        "id": "VsSvKYXONHZn",
        "outputId": "01b3672e-fa0d-429d-a4d6-03d0ffe987bf"
      },
      "execution_count": 60,
      "outputs": [
        {
          "output_type": "execute_result",
          "data": {
            "text/plain": [
              "<matplotlib.axes._subplots.AxesSubplot at 0x7fac0fada4d0>"
            ]
          },
          "metadata": {},
          "execution_count": 60
        },
        {
          "output_type": "display_data",
          "data": {
            "image/png": "[encoded data removed]",
            "text/plain": [
              "<Figure size 864x288 with 1 Axes>"
            ]
          },
          "metadata": {
            "needs_background": "light"
          }
        }
      ]
    },
    {
      "cell_type": "markdown",
      "source": [
        "Observando as medidas centrais com uma variável mais \"tranquila\":"
      ],
      "metadata": {
        "id": "eRFw8a5VNQTW"
      }
    },
    {
      "cell_type": "code",
      "source": [
        "ax = sns.boxplot( x = 'Renda', data = dados.query('Renda < 10000'), orient = 'h')\n",
        "ax.figure.set_size_inches(12, 4)\n",
        "ax.set_title('Renda', fontsize=18)\n",
        "ax.set_xlabel('R$', fontsize=14)\n",
        "ax"
      ],
      "metadata": {
        "colab": {
          "base_uri": "https://localhost:8080/",
          "height": 320
        },
        "id": "nkMtUflbNP0f",
        "outputId": "7bc63654-a4ef-43c0-c3bc-a88b87d8411a"
      },
      "execution_count": 61,
      "outputs": [
        {
          "output_type": "execute_result",
          "data": {
            "text/plain": [
              "<matplotlib.axes._subplots.AxesSubplot at 0x7fac1a565e50>"
            ]
          },
          "metadata": {},
          "execution_count": 61
        },
        {
          "output_type": "display_data",
          "data": {
            "image/png": "[encoded data removed]",
            "text/plain": [
              "<Figure size 864x288 with 1 Axes>"
            ]
          },
          "metadata": {
            "needs_background": "light"
          }
        }
      ]
    },
    {
      "cell_type": "markdown",
      "source": [
        "O boxplot segue a mesma lógica imagética que as assimetrias: ou seja, se for uma assimetria esquerda é porque a média é menor que a mediana e a moda e vice-versa para simetria e assimetria direita."
      ],
      "metadata": {
        "id": "DqaGET0rNwUm"
      }
    },
    {
      "cell_type": "markdown",
      "source": [
        "Um caso interessante de análise de dados reais com boxplot:"
      ],
      "metadata": {
        "id": "0c-ePLFzN650"
      }
    },
    {
      "cell_type": "code",
      "source": [
        "ax = sns.boxplot( x = 'Renda', y = 'Sexo', data = dados.query('Renda < 10000'), orient = 'h')\n",
        "ax.figure.set_size_inches(12, 4)\n",
        "ax.set_title('Renda', fontsize=18)\n",
        "ax.set_xlabel('R$', fontsize=14)\n",
        "ax"
      ],
      "metadata": {
        "colab": {
          "base_uri": "https://localhost:8080/",
          "height": 320
        },
        "id": "s83ok_pcOALn",
        "outputId": "56a2c137-81f2-41d3-e04a-95ad3a70f33b"
      },
      "execution_count": 62,
      "outputs": [
        {
          "output_type": "execute_result",
          "data": {
            "text/plain": [
              "<matplotlib.axes._subplots.AxesSubplot at 0x7fac1aaf6d90>"
            ]
          },
          "metadata": {},
          "execution_count": 62
        },
        {
          "output_type": "display_data",
          "data": {
            "image/png": "[encoded data removed]",
            "text/plain": [
              "<Figure size 864x288 with 1 Axes>"
            ]
          },
          "metadata": {
            "needs_background": "light"
          }
        }
      ]
    },
    {
      "cell_type": "code",
      "source": [
        "ax = sns.boxplot( x = 'Anos de Estudo', y = 'Sexo', data = dados, orient = 'h')\n",
        "ax.figure.set_size_inches(12, 4)\n",
        "ax.set_title('Anos de Estudo', fontsize=18)\n",
        "ax.set_xlabel('Anos', fontsize=14)\n",
        "ax"
      ],
      "metadata": {
        "colab": {
          "base_uri": "https://localhost:8080/",
          "height": 320
        },
        "id": "UuiXqGwBOEIB",
        "outputId": "0f1f9f8f-6c30-4e97-f47b-181a8fdd0daa"
      },
      "execution_count": 63,
      "outputs": [
        {
          "output_type": "execute_result",
          "data": {
            "text/plain": [
              "<matplotlib.axes._subplots.AxesSubplot at 0x7fac0f71f050>"
            ]
          },
          "metadata": {},
          "execution_count": 63
        },
        {
          "output_type": "display_data",
          "data": {
            "image/png": "[encoded data removed]",
            "text/plain": [
              "<Figure size 864x288 with 1 Axes>"
            ]
          },
          "metadata": {
            "needs_background": "light"
          }
        }
      ]
    },
    {
      "cell_type": "markdown",
      "source": [
        "Pelos dados observados, as mulheres ganham menos em renda mas levam maior tempo de estudo o que demonstra a desigualdade salarial."
      ],
      "metadata": {
        "id": "qjzREUiMOFIR"
      }
    },
    {
      "cell_type": "markdown",
      "source": [
        "## Medidas de Dispersão"
      ],
      "metadata": {
        "id": "U2GnKVW2W6d7"
      }
    },
    {
      "cell_type": "markdown",
      "source": [
        "Desvio médio absoluto"
      ],
      "metadata": {
        "id": "4AuzZrMdXOge"
      }
    },
    {
      "cell_type": "code",
      "source": [
        "notas_fulano = df[['Fulano']]\n",
        "notas_fulano"
      ],
      "metadata": {
        "colab": {
          "base_uri": "https://localhost:8080/",
          "height": 268
        },
        "id": "ahPYxzqkW8Zz",
        "outputId": "eff19f65-0cf7-4b8d-cd7f-e60998deed35"
      },
      "execution_count": 66,
      "outputs": [
        {
          "output_type": "execute_result",
          "data": {
            "text/html": [
              "\n",
              "  <div id=\"df-d9a5554a-565e-4ab4-a5a2-ed512cbbd7a0\">\n",
              "    <div class=\"colab-df-container\">\n",
              "      <div>\n",
              "<style scoped>\n",
              "    .dataframe tbody tr th:only-of-type {\n",
              "        vertical-align: middle;\n",
              "    }\n",
              "\n",
              "    .dataframe tbody tr th {\n",
              "        vertical-align: top;\n",
              "    }\n",
              "\n",
              "    .dataframe thead th {\n",
              "        text-align: right;\n",
              "    }\n",
              "</style>\n",
              "<table border=\"1\" class=\"dataframe\">\n",
              "  <thead>\n",
              "    <tr style=\"text-align: right;\">\n",
              "      <th>Matérias</th>\n",
              "      <th>Fulano</th>\n",
              "    </tr>\n",
              "  </thead>\n",
              "  <tbody>\n",
              "    <tr>\n",
              "      <th>Matemática</th>\n",
              "      <td>8</td>\n",
              "    </tr>\n",
              "    <tr>\n",
              "      <th>Português</th>\n",
              "      <td>10</td>\n",
              "    </tr>\n",
              "    <tr>\n",
              "      <th>Inglês</th>\n",
              "      <td>4</td>\n",
              "    </tr>\n",
              "    <tr>\n",
              "      <th>Geografia</th>\n",
              "      <td>8</td>\n",
              "    </tr>\n",
              "    <tr>\n",
              "      <th>História</th>\n",
              "      <td>6</td>\n",
              "    </tr>\n",
              "    <tr>\n",
              "      <th>Física</th>\n",
              "      <td>10</td>\n",
              "    </tr>\n",
              "    <tr>\n",
              "      <th>Química</th>\n",
              "      <td>8</td>\n",
              "    </tr>\n",
              "  </tbody>\n",
              "</table>\n",
              "</div>\n",
              "      <button class=\"colab-df-convert\" onclick=\"convertToInteractive('df-d9a5554a-565e-4ab4-a5a2-ed512cbbd7a0')\"\n",
              "              title=\"Convert this dataframe to an interactive table.\"\n",
              "              style=\"display:none;\">\n",
              "        \n",
              "  <svg xmlns=\"http://www.w3.org/2000/svg\" height=\"24px\"viewBox=\"0 0 24 24\"\n",
              "       width=\"24px\">\n",
              "    <path d=\"M0 0h24v24H0V0z\" fill=\"none\"/>\n",
              "    <path d=\"M18.56 5.44l.94 2.06.94-2.06 2.06-.94-2.06-.94-.94-2.06-.94 2.06-2.06.94zm-11 1L8.5 8.5l.94-2.06 2.06-.94-2.06-.94L8.5 2.5l-.94 2.06-2.06.94zm10 10l.94 2.06.94-2.06 2.06-.94-2.06-.94-.94-2.06-.94 2.06-2.06.94z\"/><path d=\"M17.41 7.96l-1.37-1.37c-.4-.4-.92-.59-1.43-.59-.52 0-1.04.2-1.43.59L10.3 9.45l-7.72 7.72c-.78.78-.78 2.05 0 2.83L4 21.41c.39.39.9.59 1.41.59.51 0 1.02-.2 1.41-.59l7.78-7.78 2.81-2.81c.8-.78.8-2.07 0-2.86zM5.41 20L4 18.59l7.72-7.72 1.47 1.35L5.41 20z\"/>\n",
              "  </svg>\n",
              "      </button>\n",
              "      \n",
              "  <style>\n",
              "    .colab-df-container {\n",
              "      display:flex;\n",
              "      flex-wrap:wrap;\n",
              "      gap: 12px;\n",
              "    }\n",
              "\n",
              "    .colab-df-convert {\n",
              "      background-color: #E8F0FE;\n",
              "      border: none;\n",
              "      border-radius: 50%;\n",
              "      cursor: pointer;\n",
              "      display: none;\n",
              "      fill: #1967D2;\n",
              "      height: 32px;\n",
              "      padding: 0 0 0 0;\n",
              "      width: 32px;\n",
              "    }\n",
              "\n",
              "    .colab-df-convert:hover {\n",
              "      background-color: #E2EBFA;\n",
              "      box-shadow: 0px 1px 2px rgba(60, 64, 67, 0.3), 0px 1px 3px 1px rgba(60, 64, 67, 0.15);\n",
              "      fill: #174EA6;\n",
              "    }\n",
              "\n",
              "    [theme=dark] .colab-df-convert {\n",
              "      background-color: #3B4455;\n",
              "      fill: #D2E3FC;\n",
              "    }\n",
              "\n",
              "    [theme=dark] .colab-df-convert:hover {\n",
              "      background-color: #434B5C;\n",
              "      box-shadow: 0px 1px 3px 1px rgba(0, 0, 0, 0.15);\n",
              "      filter: drop-shadow(0px 1px 2px rgba(0, 0, 0, 0.3));\n",
              "      fill: #FFFFFF;\n",
              "    }\n",
              "  </style>\n",
              "\n",
              "      <script>\n",
              "        const buttonEl =\n",
              "          document.querySelector('#df-d9a5554a-565e-4ab4-a5a2-ed512cbbd7a0 button.colab-df-convert');\n",
              "        buttonEl.style.display =\n",
              "          google.colab.kernel.accessAllowed ? 'block' : 'none';\n",
              "\n",
              "        async function convertToInteractive(key) {\n",
              "          const element = document.querySelector('#df-d9a5554a-565e-4ab4-a5a2-ed512cbbd7a0');\n",
              "          const dataTable =\n",
              "            await google.colab.kernel.invokeFunction('convertToInteractive',\n",
              "                                                     [key], {});\n",
              "          if (!dataTable) return;\n",
              "\n",
              "          const docLinkHtml = 'Like what you see? Visit the ' +\n",
              "            '<a target=\"_blank\" href=https://colab.research.google.com/notebooks/data_table.ipynb>data table notebook</a>'\n",
              "            + ' to learn more about interactive tables.';\n",
              "          element.innerHTML = '';\n",
              "          dataTable['output_type'] = 'display_data';\n",
              "          await google.colab.output.renderOutput(dataTable, element);\n",
              "          const docLink = document.createElement('div');\n",
              "          docLink.innerHTML = docLinkHtml;\n",
              "          element.appendChild(docLink);\n",
              "        }\n",
              "      </script>\n",
              "    </div>\n",
              "  </div>\n",
              "  "
            ],
            "text/plain": [
              "Matérias    Fulano\n",
              "Matemática       8\n",
              "Português       10\n",
              "Inglês           4\n",
              "Geografia        8\n",
              "História         6\n",
              "Física          10\n",
              "Química          8"
            ]
          },
          "metadata": {},
          "execution_count": 66
        }
      ]
    },
    {
      "cell_type": "code",
      "source": [
        "nota_media_fulano = notas_fulano.mean()[0]\n",
        "nota_media_fulano"
      ],
      "metadata": {
        "colab": {
          "base_uri": "https://localhost:8080/"
        },
        "id": "Mlsw8JZqZ0NU",
        "outputId": "0944c7ea-85c5-4748-abbe-67a9da1acd75"
      },
      "execution_count": 67,
      "outputs": [
        {
          "output_type": "execute_result",
          "data": {
            "text/plain": [
              "7.714285714285714"
            ]
          },
          "metadata": {},
          "execution_count": 67
        }
      ]
    },
    {
      "cell_type": "code",
      "source": [
        "notas_fulano['Desvio'] = notas_fulano['Fulano'] - nota_media_fulano\n",
        "notas_fulano"
      ],
      "metadata": {
        "colab": {
          "base_uri": "https://localhost:8080/",
          "height": 373
        },
        "id": "iP2O9IBCZ9g7",
        "outputId": "c9d9b206-56c2-4c80-f65e-65786cf9d801"
      },
      "execution_count": 68,
      "outputs": [
        {
          "output_type": "stream",
          "name": "stderr",
          "text": [
            "/usr/local/lib/python3.7/dist-packages/ipykernel_launcher.py:1: SettingWithCopyWarning: \n",
            "A value is trying to be set on a copy of a slice from a DataFrame.\n",
            "Try using .loc[row_indexer,col_indexer] = value instead\n",
            "\n",
            "See the caveats in the documentation: https://pandas.pydata.org/pandas-docs/stable/user_guide/indexing.html#returning-a-view-versus-a-copy\n",
            "  \"\"\"Entry point for launching an IPython kernel.\n"
          ]
        },
        {
          "output_type": "execute_result",
          "data": {
            "text/html": [
              "\n",
              "  <div id=\"df-baf6c6e3-bad4-47d4-963e-8a269b2f5aa6\">\n",
              "    <div class=\"colab-df-container\">\n",
              "      <div>\n",
              "<style scoped>\n",
              "    .dataframe tbody tr th:only-of-type {\n",
              "        vertical-align: middle;\n",
              "    }\n",
              "\n",
              "    .dataframe tbody tr th {\n",
              "        vertical-align: top;\n",
              "    }\n",
              "\n",
              "    .dataframe thead th {\n",
              "        text-align: right;\n",
              "    }\n",
              "</style>\n",
              "<table border=\"1\" class=\"dataframe\">\n",
              "  <thead>\n",
              "    <tr style=\"text-align: right;\">\n",
              "      <th>Matérias</th>\n",
              "      <th>Fulano</th>\n",
              "      <th>Desvio</th>\n",
              "    </tr>\n",
              "  </thead>\n",
              "  <tbody>\n",
              "    <tr>\n",
              "      <th>Matemática</th>\n",
              "      <td>8</td>\n",
              "      <td>0.285714</td>\n",
              "    </tr>\n",
              "    <tr>\n",
              "      <th>Português</th>\n",
              "      <td>10</td>\n",
              "      <td>2.285714</td>\n",
              "    </tr>\n",
              "    <tr>\n",
              "      <th>Inglês</th>\n",
              "      <td>4</td>\n",
              "      <td>-3.714286</td>\n",
              "    </tr>\n",
              "    <tr>\n",
              "      <th>Geografia</th>\n",
              "      <td>8</td>\n",
              "      <td>0.285714</td>\n",
              "    </tr>\n",
              "    <tr>\n",
              "      <th>História</th>\n",
              "      <td>6</td>\n",
              "      <td>-1.714286</td>\n",
              "    </tr>\n",
              "    <tr>\n",
              "      <th>Física</th>\n",
              "      <td>10</td>\n",
              "      <td>2.285714</td>\n",
              "    </tr>\n",
              "    <tr>\n",
              "      <th>Química</th>\n",
              "      <td>8</td>\n",
              "      <td>0.285714</td>\n",
              "    </tr>\n",
              "  </tbody>\n",
              "</table>\n",
              "</div>\n",
              "      <button class=\"colab-df-convert\" onclick=\"convertToInteractive('df-baf6c6e3-bad4-47d4-963e-8a269b2f5aa6')\"\n",
              "              title=\"Convert this dataframe to an interactive table.\"\n",
              "              style=\"display:none;\">\n",
              "        \n",
              "  <svg xmlns=\"http://www.w3.org/2000/svg\" height=\"24px\"viewBox=\"0 0 24 24\"\n",
              "       width=\"24px\">\n",
              "    <path d=\"M0 0h24v24H0V0z\" fill=\"none\"/>\n",
              "    <path d=\"M18.56 5.44l.94 2.06.94-2.06 2.06-.94-2.06-.94-.94-2.06-.94 2.06-2.06.94zm-11 1L8.5 8.5l.94-2.06 2.06-.94-2.06-.94L8.5 2.5l-.94 2.06-2.06.94zm10 10l.94 2.06.94-2.06 2.06-.94-2.06-.94-.94-2.06-.94 2.06-2.06.94z\"/><path d=\"M17.41 7.96l-1.37-1.37c-.4-.4-.92-.59-1.43-.59-.52 0-1.04.2-1.43.59L10.3 9.45l-7.72 7.72c-.78.78-.78 2.05 0 2.83L4 21.41c.39.39.9.59 1.41.59.51 0 1.02-.2 1.41-.59l7.78-7.78 2.81-2.81c.8-.78.8-2.07 0-2.86zM5.41 20L4 18.59l7.72-7.72 1.47 1.35L5.41 20z\"/>\n",
              "  </svg>\n",
              "      </button>\n",
              "      \n",
              "  <style>\n",
              "    .colab-df-container {\n",
              "      display:flex;\n",
              "      flex-wrap:wrap;\n",
              "      gap: 12px;\n",
              "    }\n",
              "\n",
              "    .colab-df-convert {\n",
              "      background-color: #E8F0FE;\n",
              "      border: none;\n",
              "      border-radius: 50%;\n",
              "      cursor: pointer;\n",
              "      display: none;\n",
              "      fill: #1967D2;\n",
              "      height: 32px;\n",
              "      padding: 0 0 0 0;\n",
              "      width: 32px;\n",
              "    }\n",
              "\n",
              "    .colab-df-convert:hover {\n",
              "      background-color: #E2EBFA;\n",
              "      box-shadow: 0px 1px 2px rgba(60, 64, 67, 0.3), 0px 1px 3px 1px rgba(60, 64, 67, 0.15);\n",
              "      fill: #174EA6;\n",
              "    }\n",
              "\n",
              "    [theme=dark] .colab-df-convert {\n",
              "      background-color: #3B4455;\n",
              "      fill: #D2E3FC;\n",
              "    }\n",
              "\n",
              "    [theme=dark] .colab-df-convert:hover {\n",
              "      background-color: #434B5C;\n",
              "      box-shadow: 0px 1px 3px 1px rgba(0, 0, 0, 0.15);\n",
              "      filter: drop-shadow(0px 1px 2px rgba(0, 0, 0, 0.3));\n",
              "      fill: #FFFFFF;\n",
              "    }\n",
              "  </style>\n",
              "\n",
              "      <script>\n",
              "        const buttonEl =\n",
              "          document.querySelector('#df-baf6c6e3-bad4-47d4-963e-8a269b2f5aa6 button.colab-df-convert');\n",
              "        buttonEl.style.display =\n",
              "          google.colab.kernel.accessAllowed ? 'block' : 'none';\n",
              "\n",
              "        async function convertToInteractive(key) {\n",
              "          const element = document.querySelector('#df-baf6c6e3-bad4-47d4-963e-8a269b2f5aa6');\n",
              "          const dataTable =\n",
              "            await google.colab.kernel.invokeFunction('convertToInteractive',\n",
              "                                                     [key], {});\n",
              "          if (!dataTable) return;\n",
              "\n",
              "          const docLinkHtml = 'Like what you see? Visit the ' +\n",
              "            '<a target=\"_blank\" href=https://colab.research.google.com/notebooks/data_table.ipynb>data table notebook</a>'\n",
              "            + ' to learn more about interactive tables.';\n",
              "          element.innerHTML = '';\n",
              "          dataTable['output_type'] = 'display_data';\n",
              "          await google.colab.output.renderOutput(dataTable, element);\n",
              "          const docLink = document.createElement('div');\n",
              "          docLink.innerHTML = docLinkHtml;\n",
              "          element.appendChild(docLink);\n",
              "        }\n",
              "      </script>\n",
              "    </div>\n",
              "  </div>\n",
              "  "
            ],
            "text/plain": [
              "Matérias    Fulano    Desvio\n",
              "Matemática       8  0.285714\n",
              "Português       10  2.285714\n",
              "Inglês           4 -3.714286\n",
              "Geografia        8  0.285714\n",
              "História         6 -1.714286\n",
              "Física          10  2.285714\n",
              "Química          8  0.285714"
            ]
          },
          "metadata": {},
          "execution_count": 68
        }
      ]
    },
    {
      "cell_type": "code",
      "source": [
        "#Para deixar em absoluto, sem valores negativos, visto que o desvio padrão é um valor absoluto:\n",
        "notas_fulano['|Desvio|'] = notas_fulano['Desvio'].abs()\n",
        "notas_fulano"
      ],
      "metadata": {
        "colab": {
          "base_uri": "https://localhost:8080/",
          "height": 268
        },
        "id": "xQJDi97qaCvB",
        "outputId": "5bb10068-f391-4227-8c74-1404cb6c941c"
      },
      "execution_count": 69,
      "outputs": [
        {
          "output_type": "execute_result",
          "data": {
            "text/html": [
              "\n",
              "  <div id=\"df-185e995d-d0ca-485e-b3ac-77c370747537\">\n",
              "    <div class=\"colab-df-container\">\n",
              "      <div>\n",
              "<style scoped>\n",
              "    .dataframe tbody tr th:only-of-type {\n",
              "        vertical-align: middle;\n",
              "    }\n",
              "\n",
              "    .dataframe tbody tr th {\n",
              "        vertical-align: top;\n",
              "    }\n",
              "\n",
              "    .dataframe thead th {\n",
              "        text-align: right;\n",
              "    }\n",
              "</style>\n",
              "<table border=\"1\" class=\"dataframe\">\n",
              "  <thead>\n",
              "    <tr style=\"text-align: right;\">\n",
              "      <th>Matérias</th>\n",
              "      <th>Fulano</th>\n",
              "      <th>Desvio</th>\n",
              "      <th>|Desvio|</th>\n",
              "    </tr>\n",
              "  </thead>\n",
              "  <tbody>\n",
              "    <tr>\n",
              "      <th>Matemática</th>\n",
              "      <td>8</td>\n",
              "      <td>0.285714</td>\n",
              "      <td>0.285714</td>\n",
              "    </tr>\n",
              "    <tr>\n",
              "      <th>Português</th>\n",
              "      <td>10</td>\n",
              "      <td>2.285714</td>\n",
              "      <td>2.285714</td>\n",
              "    </tr>\n",
              "    <tr>\n",
              "      <th>Inglês</th>\n",
              "      <td>4</td>\n",
              "      <td>-3.714286</td>\n",
              "      <td>3.714286</td>\n",
              "    </tr>\n",
              "    <tr>\n",
              "      <th>Geografia</th>\n",
              "      <td>8</td>\n",
              "      <td>0.285714</td>\n",
              "      <td>0.285714</td>\n",
              "    </tr>\n",
              "    <tr>\n",
              "      <th>História</th>\n",
              "      <td>6</td>\n",
              "      <td>-1.714286</td>\n",
              "      <td>1.714286</td>\n",
              "    </tr>\n",
              "    <tr>\n",
              "      <th>Física</th>\n",
              "      <td>10</td>\n",
              "      <td>2.285714</td>\n",
              "      <td>2.285714</td>\n",
              "    </tr>\n",
              "    <tr>\n",
              "      <th>Química</th>\n",
              "      <td>8</td>\n",
              "      <td>0.285714</td>\n",
              "      <td>0.285714</td>\n",
              "    </tr>\n",
              "  </tbody>\n",
              "</table>\n",
              "</div>\n",
              "      <button class=\"colab-df-convert\" onclick=\"convertToInteractive('df-185e995d-d0ca-485e-b3ac-77c370747537')\"\n",
              "              title=\"Convert this dataframe to an interactive table.\"\n",
              "              style=\"display:none;\">\n",
              "        \n",
              "  <svg xmlns=\"http://www.w3.org/2000/svg\" height=\"24px\"viewBox=\"0 0 24 24\"\n",
              "       width=\"24px\">\n",
              "    <path d=\"M0 0h24v24H0V0z\" fill=\"none\"/>\n",
              "    <path d=\"M18.56 5.44l.94 2.06.94-2.06 2.06-.94-2.06-.94-.94-2.06-.94 2.06-2.06.94zm-11 1L8.5 8.5l.94-2.06 2.06-.94-2.06-.94L8.5 2.5l-.94 2.06-2.06.94zm10 10l.94 2.06.94-2.06 2.06-.94-2.06-.94-.94-2.06-.94 2.06-2.06.94z\"/><path d=\"M17.41 7.96l-1.37-1.37c-.4-.4-.92-.59-1.43-.59-.52 0-1.04.2-1.43.59L10.3 9.45l-7.72 7.72c-.78.78-.78 2.05 0 2.83L4 21.41c.39.39.9.59 1.41.59.51 0 1.02-.2 1.41-.59l7.78-7.78 2.81-2.81c.8-.78.8-2.07 0-2.86zM5.41 20L4 18.59l7.72-7.72 1.47 1.35L5.41 20z\"/>\n",
              "  </svg>\n",
              "      </button>\n",
              "      \n",
              "  <style>\n",
              "    .colab-df-container {\n",
              "      display:flex;\n",
              "      flex-wrap:wrap;\n",
              "      gap: 12px;\n",
              "    }\n",
              "\n",
              "    .colab-df-convert {\n",
              "      background-color: #E8F0FE;\n",
              "      border: none;\n",
              "      border-radius: 50%;\n",
              "      cursor: pointer;\n",
              "      display: none;\n",
              "      fill: #1967D2;\n",
              "      height: 32px;\n",
              "      padding: 0 0 0 0;\n",
              "      width: 32px;\n",
              "    }\n",
              "\n",
              "    .colab-df-convert:hover {\n",
              "      background-color: #E2EBFA;\n",
              "      box-shadow: 0px 1px 2px rgba(60, 64, 67, 0.3), 0px 1px 3px 1px rgba(60, 64, 67, 0.15);\n",
              "      fill: #174EA6;\n",
              "    }\n",
              "\n",
              "    [theme=dark] .colab-df-convert {\n",
              "      background-color: #3B4455;\n",
              "      fill: #D2E3FC;\n",
              "    }\n",
              "\n",
              "    [theme=dark] .colab-df-convert:hover {\n",
              "      background-color: #434B5C;\n",
              "      box-shadow: 0px 1px 3px 1px rgba(0, 0, 0, 0.15);\n",
              "      filter: drop-shadow(0px 1px 2px rgba(0, 0, 0, 0.3));\n",
              "      fill: #FFFFFF;\n",
              "    }\n",
              "  </style>\n",
              "\n",
              "      <script>\n",
              "        const buttonEl =\n",
              "          document.querySelector('#df-185e995d-d0ca-485e-b3ac-77c370747537 button.colab-df-convert');\n",
              "        buttonEl.style.display =\n",
              "          google.colab.kernel.accessAllowed ? 'block' : 'none';\n",
              "\n",
              "        async function convertToInteractive(key) {\n",
              "          const element = document.querySelector('#df-185e995d-d0ca-485e-b3ac-77c370747537');\n",
              "          const dataTable =\n",
              "            await google.colab.kernel.invokeFunction('convertToInteractive',\n",
              "                                                     [key], {});\n",
              "          if (!dataTable) return;\n",
              "\n",
              "          const docLinkHtml = 'Like what you see? Visit the ' +\n",
              "            '<a target=\"_blank\" href=https://colab.research.google.com/notebooks/data_table.ipynb>data table notebook</a>'\n",
              "            + ' to learn more about interactive tables.';\n",
              "          element.innerHTML = '';\n",
              "          dataTable['output_type'] = 'display_data';\n",
              "          await google.colab.output.renderOutput(dataTable, element);\n",
              "          const docLink = document.createElement('div');\n",
              "          docLink.innerHTML = docLinkHtml;\n",
              "          element.appendChild(docLink);\n",
              "        }\n",
              "      </script>\n",
              "    </div>\n",
              "  </div>\n",
              "  "
            ],
            "text/plain": [
              "Matérias    Fulano    Desvio  |Desvio|\n",
              "Matemática       8  0.285714  0.285714\n",
              "Português       10  2.285714  2.285714\n",
              "Inglês           4 -3.714286  3.714286\n",
              "Geografia        8  0.285714  0.285714\n",
              "História         6 -1.714286  1.714286\n",
              "Física          10  2.285714  2.285714\n",
              "Química          8  0.285714  0.285714"
            ]
          },
          "metadata": {},
          "execution_count": 69
        }
      ]
    },
    {
      "cell_type": "code",
      "source": [
        "#Agora, a fórmula propriamente do Pandas que facilita todo esse entendimento:\n",
        "#Lembrando que essa é a média do desvio absoluto.\n",
        "desvio_medio_absoluto = notas_fulano['Fulano'].mad()\n",
        "desvio_medio_absoluto"
      ],
      "metadata": {
        "colab": {
          "base_uri": "https://localhost:8080/"
        },
        "id": "5G9RERi3afa5",
        "outputId": "942fd7c6-d26b-4393-87b5-d431e82003a4"
      },
      "execution_count": 72,
      "outputs": [
        {
          "output_type": "execute_result",
          "data": {
            "text/plain": [
              "1.5510204081632648"
            ]
          },
          "metadata": {},
          "execution_count": 72
        }
      ]
    },
    {
      "cell_type": "markdown",
      "source": [
        "Variância:\n"
      ],
      "metadata": {
        "id": "-m8mD-4ub9wU"
      }
    },
    {
      "cell_type": "markdown",
      "source": [
        "esta Medida de Dispersão também é uma média dos desvios (como o Desvio médio absoluto), porém não é calculado somente com valores absolutos, e sim os eleva ao quadrado para não precisarem usar o sinal de negativo."
      ],
      "metadata": {
        "id": "9S0ghnmycIl2"
      }
    },
    {
      "cell_type": "code",
      "source": [
        "notas_fulano['(Desvio)^2'] = notas_fulano['Desvio'].pow(2)\n",
        "notas_fulano"
      ],
      "metadata": {
        "colab": {
          "base_uri": "https://localhost:8080/",
          "height": 268
        },
        "id": "GLBNIcBRb-6M",
        "outputId": "989fe73c-a8f8-474e-ecf8-2a364941d5a2"
      },
      "execution_count": 77,
      "outputs": [
        {
          "output_type": "execute_result",
          "data": {
            "text/html": [
              "\n",
              "  <div id=\"df-46c7f45a-72b4-46df-8607-112e507e46f7\">\n",
              "    <div class=\"colab-df-container\">\n",
              "      <div>\n",
              "<style scoped>\n",
              "    .dataframe tbody tr th:only-of-type {\n",
              "        vertical-align: middle;\n",
              "    }\n",
              "\n",
              "    .dataframe tbody tr th {\n",
              "        vertical-align: top;\n",
              "    }\n",
              "\n",
              "    .dataframe thead th {\n",
              "        text-align: right;\n",
              "    }\n",
              "</style>\n",
              "<table border=\"1\" class=\"dataframe\">\n",
              "  <thead>\n",
              "    <tr style=\"text-align: right;\">\n",
              "      <th>Matérias</th>\n",
              "      <th>Fulano</th>\n",
              "      <th>Desvio</th>\n",
              "      <th>|Desvio|</th>\n",
              "      <th>(Desvio)^2</th>\n",
              "    </tr>\n",
              "  </thead>\n",
              "  <tbody>\n",
              "    <tr>\n",
              "      <th>Matemática</th>\n",
              "      <td>8</td>\n",
              "      <td>0.285714</td>\n",
              "      <td>0.285714</td>\n",
              "      <td>0.081633</td>\n",
              "    </tr>\n",
              "    <tr>\n",
              "      <th>Português</th>\n",
              "      <td>10</td>\n",
              "      <td>2.285714</td>\n",
              "      <td>2.285714</td>\n",
              "      <td>5.224490</td>\n",
              "    </tr>\n",
              "    <tr>\n",
              "      <th>Inglês</th>\n",
              "      <td>4</td>\n",
              "      <td>-3.714286</td>\n",
              "      <td>3.714286</td>\n",
              "      <td>13.795918</td>\n",
              "    </tr>\n",
              "    <tr>\n",
              "      <th>Geografia</th>\n",
              "      <td>8</td>\n",
              "      <td>0.285714</td>\n",
              "      <td>0.285714</td>\n",
              "      <td>0.081633</td>\n",
              "    </tr>\n",
              "    <tr>\n",
              "      <th>História</th>\n",
              "      <td>6</td>\n",
              "      <td>-1.714286</td>\n",
              "      <td>1.714286</td>\n",
              "      <td>2.938776</td>\n",
              "    </tr>\n",
              "    <tr>\n",
              "      <th>Física</th>\n",
              "      <td>10</td>\n",
              "      <td>2.285714</td>\n",
              "      <td>2.285714</td>\n",
              "      <td>5.224490</td>\n",
              "    </tr>\n",
              "    <tr>\n",
              "      <th>Química</th>\n",
              "      <td>8</td>\n",
              "      <td>0.285714</td>\n",
              "      <td>0.285714</td>\n",
              "      <td>0.081633</td>\n",
              "    </tr>\n",
              "  </tbody>\n",
              "</table>\n",
              "</div>\n",
              "      <button class=\"colab-df-convert\" onclick=\"convertToInteractive('df-46c7f45a-72b4-46df-8607-112e507e46f7')\"\n",
              "              title=\"Convert this dataframe to an interactive table.\"\n",
              "              style=\"display:none;\">\n",
              "        \n",
              "  <svg xmlns=\"http://www.w3.org/2000/svg\" height=\"24px\"viewBox=\"0 0 24 24\"\n",
              "       width=\"24px\">\n",
              "    <path d=\"M0 0h24v24H0V0z\" fill=\"none\"/>\n",
              "    <path d=\"M18.56 5.44l.94 2.06.94-2.06 2.06-.94-2.06-.94-.94-2.06-.94 2.06-2.06.94zm-11 1L8.5 8.5l.94-2.06 2.06-.94-2.06-.94L8.5 2.5l-.94 2.06-2.06.94zm10 10l.94 2.06.94-2.06 2.06-.94-2.06-.94-.94-2.06-.94 2.06-2.06.94z\"/><path d=\"M17.41 7.96l-1.37-1.37c-.4-.4-.92-.59-1.43-.59-.52 0-1.04.2-1.43.59L10.3 9.45l-7.72 7.72c-.78.78-.78 2.05 0 2.83L4 21.41c.39.39.9.59 1.41.59.51 0 1.02-.2 1.41-.59l7.78-7.78 2.81-2.81c.8-.78.8-2.07 0-2.86zM5.41 20L4 18.59l7.72-7.72 1.47 1.35L5.41 20z\"/>\n",
              "  </svg>\n",
              "      </button>\n",
              "      \n",
              "  <style>\n",
              "    .colab-df-container {\n",
              "      display:flex;\n",
              "      flex-wrap:wrap;\n",
              "      gap: 12px;\n",
              "    }\n",
              "\n",
              "    .colab-df-convert {\n",
              "      background-color: #E8F0FE;\n",
              "      border: none;\n",
              "      border-radius: 50%;\n",
              "      cursor: pointer;\n",
              "      display: none;\n",
              "      fill: #1967D2;\n",
              "      height: 32px;\n",
              "      padding: 0 0 0 0;\n",
              "      width: 32px;\n",
              "    }\n",
              "\n",
              "    .colab-df-convert:hover {\n",
              "      background-color: #E2EBFA;\n",
              "      box-shadow: 0px 1px 2px rgba(60, 64, 67, 0.3), 0px 1px 3px 1px rgba(60, 64, 67, 0.15);\n",
              "      fill: #174EA6;\n",
              "    }\n",
              "\n",
              "    [theme=dark] .colab-df-convert {\n",
              "      background-color: #3B4455;\n",
              "      fill: #D2E3FC;\n",
              "    }\n",
              "\n",
              "    [theme=dark] .colab-df-convert:hover {\n",
              "      background-color: #434B5C;\n",
              "      box-shadow: 0px 1px 3px 1px rgba(0, 0, 0, 0.15);\n",
              "      filter: drop-shadow(0px 1px 2px rgba(0, 0, 0, 0.3));\n",
              "      fill: #FFFFFF;\n",
              "    }\n",
              "  </style>\n",
              "\n",
              "      <script>\n",
              "        const buttonEl =\n",
              "          document.querySelector('#df-46c7f45a-72b4-46df-8607-112e507e46f7 button.colab-df-convert');\n",
              "        buttonEl.style.display =\n",
              "          google.colab.kernel.accessAllowed ? 'block' : 'none';\n",
              "\n",
              "        async function convertToInteractive(key) {\n",
              "          const element = document.querySelector('#df-46c7f45a-72b4-46df-8607-112e507e46f7');\n",
              "          const dataTable =\n",
              "            await google.colab.kernel.invokeFunction('convertToInteractive',\n",
              "                                                     [key], {});\n",
              "          if (!dataTable) return;\n",
              "\n",
              "          const docLinkHtml = 'Like what you see? Visit the ' +\n",
              "            '<a target=\"_blank\" href=https://colab.research.google.com/notebooks/data_table.ipynb>data table notebook</a>'\n",
              "            + ' to learn more about interactive tables.';\n",
              "          element.innerHTML = '';\n",
              "          dataTable['output_type'] = 'display_data';\n",
              "          await google.colab.output.renderOutput(dataTable, element);\n",
              "          const docLink = document.createElement('div');\n",
              "          docLink.innerHTML = docLinkHtml;\n",
              "          element.appendChild(docLink);\n",
              "        }\n",
              "      </script>\n",
              "    </div>\n",
              "  </div>\n",
              "  "
            ],
            "text/plain": [
              "Matérias    Fulano    Desvio  |Desvio|  (Desvio)^2\n",
              "Matemática       8  0.285714  0.285714    0.081633\n",
              "Português       10  2.285714  2.285714    5.224490\n",
              "Inglês           4 -3.714286  3.714286   13.795918\n",
              "Geografia        8  0.285714  0.285714    0.081633\n",
              "História         6 -1.714286  1.714286    2.938776\n",
              "Física          10  2.285714  2.285714    5.224490\n",
              "Química          8  0.285714  0.285714    0.081633"
            ]
          },
          "metadata": {},
          "execution_count": 77
        }
      ]
    },
    {
      "cell_type": "code",
      "source": [
        "notas_fulano['(Desvio)^2'].sum() / (len(notas_fulano) - 1)"
      ],
      "metadata": {
        "colab": {
          "base_uri": "https://localhost:8080/"
        },
        "id": "8Gh-VXWTczI0",
        "outputId": "505440f6-5733-4ec7-8001-f080604dea36"
      },
      "execution_count": 78,
      "outputs": [
        {
          "output_type": "execute_result",
          "data": {
            "text/plain": [
              "4.57142857142857"
            ]
          },
          "metadata": {},
          "execution_count": 78
        }
      ]
    },
    {
      "cell_type": "code",
      "source": [
        "#Ou simplesmente, o seguinte código:\n",
        "variancia = notas_fulano['Fulano'].var()\n",
        "variancia"
      ],
      "metadata": {
        "colab": {
          "base_uri": "https://localhost:8080/"
        },
        "id": "0sz_VKCac2vb",
        "outputId": "37ea7b6a-024e-47ab-9908-d548eca994a8"
      },
      "execution_count": 80,
      "outputs": [
        {
          "output_type": "execute_result",
          "data": {
            "text/plain": [
              "4.57142857142857"
            ]
          },
          "metadata": {},
          "execution_count": 80
        }
      ]
    },
    {
      "cell_type": "markdown",
      "source": [
        "Desvio Padrão:"
      ],
      "metadata": {
        "id": "jnL_4R79dUYf"
      }
    },
    {
      "cell_type": "markdown",
      "source": [
        "Basicamente, é a raiz quadrada da variância"
      ],
      "metadata": {
        "id": "qKckk07XdcsB"
      }
    },
    {
      "cell_type": "code",
      "source": [
        "np.sqrt(variancia)"
      ],
      "metadata": {
        "colab": {
          "base_uri": "https://localhost:8080/"
        },
        "id": "TMVLY60pc4Cj",
        "outputId": "ff0ca0a6-d5c4-4b9e-f466-473144041fb5"
      },
      "execution_count": 81,
      "outputs": [
        {
          "output_type": "execute_result",
          "data": {
            "text/plain": [
              "2.1380899352993947"
            ]
          },
          "metadata": {},
          "execution_count": 81
        }
      ]
    },
    {
      "cell_type": "code",
      "source": [
        "#a fórmula do pandas é std():\n",
        "desvio_padrao = notas_fulano['Fulano'].std()\n",
        "desvio_padrao"
      ],
      "metadata": {
        "colab": {
          "base_uri": "https://localhost:8080/"
        },
        "id": "zMFCMjNAdgaP",
        "outputId": "fcdff859-23c1-4061-bb44-dd2a68627bc6"
      },
      "execution_count": 82,
      "outputs": [
        {
          "output_type": "execute_result",
          "data": {
            "text/plain": [
              "2.1380899352993947"
            ]
          },
          "metadata": {},
          "execution_count": 82
        }
      ]
    },
    {
      "cell_type": "code",
      "source": [
        "df.std()"
      ],
      "metadata": {
        "colab": {
          "base_uri": "https://localhost:8080/"
        },
        "id": "lupnIdNHdmSr",
        "outputId": "5c40812f-f6f9-4bd9-f2bb-26e491b94538"
      },
      "execution_count": 86,
      "outputs": [
        {
          "output_type": "execute_result",
          "data": {
            "text/plain": [
              "Matérias\n",
              "Fulano     2.138090\n",
              "Sicrano    0.566947\n",
              "dtype: float64"
            ]
          },
          "metadata": {},
          "execution_count": 86
        }
      ]
    }
  ]
}